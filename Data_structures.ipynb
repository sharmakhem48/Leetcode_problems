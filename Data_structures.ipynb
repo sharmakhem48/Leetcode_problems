{
 "cells": [
  {
   "cell_type": "code",
   "execution_count": null,
   "id": "61f9afd7",
   "metadata": {},
   "outputs": [],
   "source": [
    "# Trapping rain water "
   ]
  },
  {
   "cell_type": "code",
   "execution_count": null,
   "id": "e5cd0b76",
   "metadata": {},
   "outputs": [],
   "source": [
    "def trap(height):\n",
    "    result = {}\n",
    "    for i in range(len(height)):\n",
    "        result[i] = {\"L\": 0, \"R\": 0}\n",
    "\n",
    "    max_left, max_right = 0, 0\n",
    "    for i in range(len(height)):\n",
    "        if height[i] > max_left:\n",
    "            max_left = height[i]\n",
    "        if height[-i-1] > max_right:\n",
    "            max_right = height[-i-1]\n",
    "        print(f\"iteration-no {i}\", end='\\n')\n",
    "        print(f\"max_left : {max_left}\")biu\n",
    "        print(f\"max_right : {max_right}\")\n",
    "        result[i][\"L\"] = max_left\n",
    "        result[len(height)-1-i][\"R\"] = max_right\n",
    "        print(result)\n",
    "\n",
    "    total = 0\n",
    "    for i in range(len(height)):\n",
    "        L, R = result[i][\"L\"], result[i][\"R\"]\n",
    "        if L > height[i] and R > height[i]:\n",
    "            total += min(L, R) - height[i]\n",
    "\n",
    "    return total"
   ]
  },
  {
   "cell_type": "code",
   "execution_count": null,
   "id": "df3e4dfd",
   "metadata": {},
   "outputs": [],
   "source": [
    "trap([0,1,0,2,1,0,1,3,2,1,2,1])"
   ]
  },
  {
   "cell_type": "code",
   "execution_count": null,
   "id": "43dc5676",
   "metadata": {},
   "outputs": [],
   "source": [
    "def binary_search(arr, low, high, x):\n",
    " \n",
    "    # Check base case\n",
    "    if high >= low: # Base condition\n",
    " \n",
    "        mid = (high + low) // 2\n",
    "        # If element is present at the middle itself\n",
    "        if arr[mid] == x:\n",
    "            return mid\n",
    " \n",
    "        # If element is smaller than mid, then it can only\n",
    "        # be present in left subarray\n",
    "        elif arr[mid] > x:\n",
    "            return binary_search(arr, low, mid - 1, x)\n",
    " \n",
    "        # Else the element can only be present in right subarray\n",
    "        else:\n",
    "            return binary_search(arr, mid + 1, high, x)\n",
    " \n",
    "    else:\n",
    "        # Element is not present in the array\n",
    "        return -1"
   ]
  },
  {
   "cell_type": "code",
   "execution_count": null,
   "id": "aa5e18e6",
   "metadata": {},
   "outputs": [],
   "source": [
    "arr  =[5,7,7,8,8,10]\n",
    "binary_search(arr , 0, len(arr)-1, 8)"
   ]
  },
  {
   "cell_type": "code",
   "execution_count": null,
   "id": "55269247",
   "metadata": {},
   "outputs": [],
   "source": [
    "import copy \n",
    "def get_combinations(ipt):\n",
    "    telephone_combinations = {'2':['a','b','c'],\n",
    "                       '3':['d','e','f'],\n",
    "                       '4':['g','h','i'],\n",
    "                       '5':['j','k','l'],\n",
    "                       '6':['m','n','o'],\n",
    "                       '7': ['p','q','r','s'],\n",
    "                       '8':['t','u','v'],\n",
    "                       '9' :['w','x','y','z']}\n",
    "    comb_list=[]\n",
    "    for ele in ipt:\n",
    "        comb_list.append(telephone_combinations[ele])\n",
    "        \n",
    "    if len(comb_list)<=1:\n",
    "        return comb_list[0]\n",
    "    \n",
    "    input_comb = comb_list[0]\n",
    "    sec_comb = comb_list[1:]\n",
    "    for combination in sec_comb:\n",
    "        output = start_recur(input_comb, combination,[])\n",
    "        sec_comb.remove(combination)\n",
    "    return output\n",
    "    \n",
    "    \n",
    "    \n",
    "def start_recur(first_comb, second_comb, result):\n",
    "    if not second_comb:\n",
    "        return result\n",
    "    \n",
    "    for ele in second_comb:\n",
    "        f = copy.deepcopy(com_ele)\n",
    "        f += ele\n",
    "        result.append(f)\n",
    "    \n",
    "    return start_recur(first_comb, second_comb, result=result)"
   ]
  },
  {
   "cell_type": "code",
   "execution_count": null,
   "id": "6f8253a1",
   "metadata": {},
   "outputs": [],
   "source": [
    "get_combinations('234')"
   ]
  },
  {
   "cell_type": "code",
   "execution_count": null,
   "id": "4e6d6fec",
   "metadata": {},
   "outputs": [],
   "source": [
    "gg = ['a','b']"
   ]
  },
  {
   "cell_type": "code",
   "execution_count": null,
   "id": "c624c342",
   "metadata": {},
   "outputs": [],
   "source": [
    "gg.remove('a')"
   ]
  },
  {
   "cell_type": "code",
   "execution_count": null,
   "id": "c477c683",
   "metadata": {},
   "outputs": [],
   "source": [
    "gg"
   ]
  },
  {
   "cell_type": "code",
   "execution_count": null,
   "id": "6a69f46e",
   "metadata": {},
   "outputs": [],
   "source": [
    "import matplotlib as mpl\n",
    "import matplotlib.pyplot as plt"
   ]
  },
  {
   "cell_type": "code",
   "execution_count": null,
   "id": "4aeb8673",
   "metadata": {},
   "outputs": [],
   "source": [
    "def letterCombinations(digits):\n",
    "    dic = {}\n",
    "    dic[\"2\"]=\"abc\"\n",
    "    dic[\"3\"]=\"def\"\n",
    "    dic[\"4\"]=\"ghi\"\n",
    "    dic[\"5\"]=\"jkl\"\n",
    "    dic[\"6\"]=\"mno\"\n",
    "    dic[\"7\"]=\"pqrs\"\n",
    "    dic[\"8\"]=\"tuv\"\n",
    "    dic[\"9\"]=\"wxyz\"\n",
    "    l=[]\n",
    "    \n",
    "    def dfs(i, curStr):\n",
    "        if len(curStr) == len(digits):\n",
    "            l.append(curStr)\n",
    "            return\n",
    "        print(dic[digits[i]])\n",
    "        for c in dic[digits[i]]:\n",
    "            dfs(i+1, curStr + c) \n",
    "    if digits:\n",
    "        dfs(0, \"\")\n",
    "    return l"
   ]
  },
  {
   "cell_type": "code",
   "execution_count": null,
   "id": "48ed7bdc",
   "metadata": {},
   "outputs": [],
   "source": [
    "letterCombinations('23')"
   ]
  },
  {
   "cell_type": "code",
   "execution_count": null,
   "id": "5dcefb2b",
   "metadata": {},
   "outputs": [],
   "source": [
    "class Linked_list():\n",
    "    class Node():\n",
    "        def __init__(self):\n",
    "            self.data = None\n",
    "            self.nxt = None\n",
    "            \n",
    "            \n",
    "    def __init__(self):\n",
    "        self.head = self.Node()\n",
    "        \n",
    "    \n",
    "    def llinsert(self, data):\n",
    "        if not self.head.data:\n",
    "            self.head.data = data\n",
    "            \n",
    "        new_node = self.Node()\n",
    "        new_node.data = data\n",
    "        temp = self.head\n",
    "        self.head = new_node\n",
    "        self.head.nxt = temp\n",
    "        \n",
    "        \n",
    "    def print_ll(self):\n",
    "        curr = self.head\n",
    "        while curr.nxt:\n",
    "            print(curr.data)\n",
    "            curr = curr.nxt"
   ]
  },
  {
   "cell_type": "code",
   "execution_count": null,
   "id": "02d546fd",
   "metadata": {},
   "outputs": [],
   "source": [
    "ll = Linked_list()"
   ]
  },
  {
   "cell_type": "code",
   "execution_count": null,
   "id": "7431069c",
   "metadata": {},
   "outputs": [],
   "source": [
    "ll.llinsert(5)"
   ]
  },
  {
   "cell_type": "code",
   "execution_count": null,
   "id": "254b5bd2",
   "metadata": {},
   "outputs": [],
   "source": [
    "ll.llinsert(4)"
   ]
  },
  {
   "cell_type": "code",
   "execution_count": null,
   "id": "922f67df",
   "metadata": {},
   "outputs": [],
   "source": [
    "ll.llinsert(4)"
   ]
  },
  {
   "cell_type": "code",
   "execution_count": null,
   "id": "8d6f2f5c",
   "metadata": {},
   "outputs": [],
   "source": [
    "ll.llinsert(3)"
   ]
  },
  {
   "cell_type": "code",
   "execution_count": null,
   "id": "7c81cd49",
   "metadata": {},
   "outputs": [],
   "source": [
    "ll.llinsert(3)"
   ]
  },
  {
   "cell_type": "code",
   "execution_count": null,
   "id": "7b010ac2",
   "metadata": {},
   "outputs": [],
   "source": [
    "ll.llinsert(2)"
   ]
  },
  {
   "cell_type": "code",
   "execution_count": null,
   "id": "0f99e32b",
   "metadata": {},
   "outputs": [],
   "source": [
    "ll.llinsert(1)"
   ]
  },
  {
   "cell_type": "code",
   "execution_count": null,
   "id": "90d9dddd",
   "metadata": {},
   "outputs": [],
   "source": [
    "ll.print_ll()"
   ]
  },
  {
   "cell_type": "code",
   "execution_count": null,
   "id": "e11799b1",
   "metadata": {},
   "outputs": [],
   "source": [
    "def deleteDuplicates(head):\n",
    "    if head == None or head.nxt == None:\n",
    "        return head\n",
    "\n",
    "    pointer  = head.nxt\n",
    "    if pointer.data == head.data:\n",
    "        while pointer!=None and pointer.data == head.data:\n",
    "            pointer = pointer.nxt\n",
    "            return deleteDuplicates(pointer)\n",
    "\n",
    "    else:\n",
    "        head.next = deleteDuplicates(pointer)\n",
    "        return head"
   ]
  },
  {
   "cell_type": "code",
   "execution_count": null,
   "id": "34d8a0d3",
   "metadata": {},
   "outputs": [],
   "source": [
    "ll1 = deleteDuplicates(ll.head)"
   ]
  },
  {
   "cell_type": "code",
   "execution_count": null,
   "id": "1dcc693b",
   "metadata": {},
   "outputs": [],
   "source": [
    "ll1.nxt.nxt.data"
   ]
  },
  {
   "cell_type": "code",
   "execution_count": null,
   "id": "a7a1f168",
   "metadata": {},
   "outputs": [],
   "source": [
    "# Frog jump"
   ]
  },
  {
   "cell_type": "code",
   "execution_count": null,
   "id": "b0e5be86",
   "metadata": {},
   "outputs": [],
   "source": [
    "arr = [0,1,2,3,4,8,9,11]"
   ]
  },
  {
   "cell_type": "code",
   "execution_count": null,
   "id": "d8f3fa85",
   "metadata": {},
   "outputs": [],
   "source": [
    "def canCross(stones):\n",
    "    dp = {i:set() for i in stones}\n",
    "    dp[0].add(0)\n",
    "    for stone in stones:\n",
    "        for vel in dp[stone]:\n",
    "                if stone + vel -1 in dp and stone + vel -1 > stone:\n",
    "                    dp[stone + vel -1].add(vel-1)\n",
    "                    \n",
    "                if stone + vel +1 in dp and stone + vel +1 > stone:\n",
    "                    dp[stone + vel + 1].add(vel+1)\n",
    "                    \n",
    "                if stone + vel in dp and stone + vel > stone:\n",
    "                    dp[stone + vel].add(vel)\n",
    "                    \n",
    "    return len(dp[stones[-1]]) > 0"
   ]
  },
  {
   "cell_type": "code",
   "execution_count": null,
   "id": "8aedaaf3",
   "metadata": {},
   "outputs": [],
   "source": [
    "canCross(arr)"
   ]
  },
  {
   "cell_type": "code",
   "execution_count": null,
   "id": "87517e45",
   "metadata": {},
   "outputs": [],
   "source": [
    "def canCross(stones):\n",
    "    dp = {i:set() for i in stones}\n",
    "    dp[0].add(0)\n",
    "    dp[1].add(1)\n",
    "    i=1\n",
    "    while i <= len(stones)-1:\n",
    "        for vel in dp[stones[i]]:\n",
    "                if stones[i] + vel -1 in dp and stones[i] + vel -1 > stones[i]:\n",
    "                    dp[stones[i]  + vel -1].add(vel-1)\n",
    "\n",
    "                if stones[i] + vel +1 in dp and stones[i] + vel +1 > stones[i]:\n",
    "                    dp[stones[i] + vel + 1].add(vel+1)\n",
    "\n",
    "                if stones[i] + vel in dp and stones[i] + vel > stones[i]:\n",
    "                    dp[stones[i] + vel].add(vel)\n",
    "                    \n",
    "        i+=1\n",
    "\n",
    "    return len(dp[stones[-1]]) > 0"
   ]
  },
  {
   "cell_type": "code",
   "execution_count": null,
   "id": "8b692915",
   "metadata": {},
   "outputs": [],
   "source": [
    "canCross(arr)"
   ]
  },
  {
   "cell_type": "code",
   "execution_count": null,
   "id": "28db7d19",
   "metadata": {},
   "outputs": [],
   "source": [
    "#Bubble Sort"
   ]
  },
  {
   "cell_type": "code",
   "execution_count": null,
   "id": "37f74448",
   "metadata": {},
   "outputs": [],
   "source": [
    "def bubble_sort(arr):\n",
    "    \n",
    "    \n",
    "    if not arr :\n",
    "        return\n",
    "    \n",
    "    le = len(arr)\n",
    "    for k in range(1,le-1):\n",
    "        print(f\"I am k:{k}\")\n",
    "        ptr = 0\n",
    "        while ptr <= le-k-1:\n",
    "            print(f\"I am pointer1:{ptr}\")\n",
    "            print(f\"I am pointer2: {le-k}\")\n",
    "            if arr[ptr] > arr[ptr+1]:\n",
    "                temp = arr[ptr+1]\n",
    "                temp1 = arr[ptr]\n",
    "                arr[ptr+1]= temp1\n",
    "                arr[ptr] = temp\n",
    "            print(arr)\n",
    "            ptr+=1"
   ]
  },
  {
   "cell_type": "code",
   "execution_count": null,
   "id": "7d4d1a1b",
   "metadata": {},
   "outputs": [],
   "source": [
    "bubble_sort([4,3,7,2,1,6])"
   ]
  },
  {
   "cell_type": "code",
   "execution_count": null,
   "id": "8a1539f6",
   "metadata": {},
   "outputs": [],
   "source": [
    "#Binary Search\n",
    "\n",
    "def insert_postion(arr, target): # Binary Search iterative\n",
    "    loc = -1\n",
    "    lb = 0\n",
    "    ub = len(arr)-1\n",
    "    mid = (lb+ub)//2\n",
    "    while lb<=ub and arr[mid]!=target:\n",
    "        if target < arr[mid]:\n",
    "            ub = mid-1\n",
    "            \n",
    "        elif target > arr[mid]:\n",
    "            lb = mid+1\n",
    "            \n",
    "        mid = (lb+ub)//2\n",
    "        \n",
    "    if arr[mid]==target:\n",
    "        loc = mid\n",
    "        \n",
    "    if loc==-1:\n",
    "        loc = lb\n",
    "    return loc"
   ]
  },
  {
   "cell_type": "code",
   "execution_count": null,
   "id": "4c5d3eb0",
   "metadata": {},
   "outputs": [],
   "source": [
    "insert_postion([1,3,5,6],2)"
   ]
  },
  {
   "cell_type": "code",
   "execution_count": null,
   "id": "d8b9f817",
   "metadata": {},
   "outputs": [],
   "source": [
    "def sorted_squares(nums):\n",
    "    squares = [0] * len(nums)\n",
    "    left_idx = 0\n",
    "    right_idx = len(nums) - 1\n",
    "    next_square_idx = right_idx\n",
    "\n",
    "    while left_idx <= right_idx:\n",
    "        left_square = nums[left_idx] ** 2\n",
    "        right_square = nums[right_idx] ** 2\n",
    "\n",
    "        if left_square < right_square:\n",
    "            squares[next_square_idx] = right_square\n",
    "            right_idx -= 1\n",
    "        else:\n",
    "            squares[next_square_idx] = left_square\n",
    "            left_idx += 1\n",
    "\n",
    "        next_square_idx -= 1\n",
    "\n",
    "    return squares           "
   ]
  },
  {
   "cell_type": "code",
   "execution_count": null,
   "id": "a5d0c7c6",
   "metadata": {},
   "outputs": [],
   "source": [
    "sorted_squares([-4,-1,0,3,10])"
   ]
  },
  {
   "cell_type": "code",
   "execution_count": null,
   "id": "4ce910ea",
   "metadata": {},
   "outputs": [],
   "source": [
    "def rotate(nums, k):\n",
    "        k = k % len(nums)\n",
    "        print(k)\n",
    "        if k!=0:\n",
    "            nums[k:], nums[:k] = nums[:-k],nums[-k:]\n",
    "        return nums"
   ]
  },
  {
   "cell_type": "code",
   "execution_count": null,
   "id": "4df06c2f",
   "metadata": {},
   "outputs": [],
   "source": [
    "rotate([1,2,3,4],7)"
   ]
  },
  {
   "cell_type": "code",
   "execution_count": null,
   "id": "e2a3e229",
   "metadata": {},
   "outputs": [],
   "source": [
    "7%28"
   ]
  },
  {
   "cell_type": "code",
   "execution_count": null,
   "id": "2dd615d1",
   "metadata": {},
   "outputs": [],
   "source": [
    "def move_zeroes(arr):\n",
    "    if len(arr)==1:\n",
    "        pass    \n",
    "    left = 0\n",
    "    right = 1\n",
    "    while right <= len(arr)-1:\n",
    "        if arr[left]==0:\n",
    "            if arr[right]!=0:\n",
    "                temp=arr[right]\n",
    "                arr[left] = temp\n",
    "                arr[right] = 0\n",
    "                left+=1\n",
    "                right+=1\n",
    "                \n",
    "            else:\n",
    "                right+=1\n",
    "        else:\n",
    "            left+=1\n",
    "            right+=1\n",
    "            \n",
    "    return arr"
   ]
  },
  {
   "cell_type": "code",
   "execution_count": null,
   "id": "77c86fd1",
   "metadata": {},
   "outputs": [],
   "source": [
    "move_zeroes([0,1,0,3,12])"
   ]
  },
  {
   "cell_type": "code",
   "execution_count": null,
   "id": "92535101",
   "metadata": {},
   "outputs": [],
   "source": [
    "def two_sum_II(arr,target):\n",
    "    if len(arr)==1:\n",
    "        if arr[0]==target:\n",
    "            return [0]\n",
    "        \n",
    "    left = 0\n",
    "    right = len(arr)-1\n",
    "    res= []\n",
    "    while left< right:\n",
    "        addition = arr[left]+arr[right]\n",
    "        if addition==target:\n",
    "            return [left+1,right+1]\n",
    "            \n",
    "        elif addition > target:\n",
    "            right-=1\n",
    "            \n",
    "        else:\n",
    "            left+=1\n",
    "        \n",
    "        \n",
    "    return res"
   ]
  },
  {
   "cell_type": "code",
   "execution_count": null,
   "id": "cbc55248",
   "metadata": {},
   "outputs": [],
   "source": [
    "two_sum_II([5,25,75],100)"
   ]
  },
  {
   "cell_type": "code",
   "execution_count": null,
   "id": "29f4811f",
   "metadata": {},
   "outputs": [],
   "source": [
    "class Solution:\n",
    "    def binary_search(self, numbers,target):\n",
    "        flag = False\n",
    "        loc = -1\n",
    "        lb = 0\n",
    "        ub = len(numbers)-1\n",
    "        mid = (lb+ub)//2\n",
    "        while lb<=ub and numbers[mid]!=target:\n",
    "            if target < numbers[mid]:\n",
    "                ub = mid-1\n",
    "\n",
    "            elif target > numbers[mid]:\n",
    "                lb = mid+1\n",
    "\n",
    "            mid = (lb+ub)//2\n",
    "\n",
    "        if numbers[mid]==target:\n",
    "            loc = mid\n",
    "\n",
    "        if loc!=-1:\n",
    "            flag=True\n",
    "            \n",
    "        return flag,loc\n",
    "        \n",
    "\n",
    "    def twoSum(self, numbers, target):     \n",
    "        left = 0\n",
    "        while left <= len(numbers)-2:\n",
    "            diff = target- numbers[left]\n",
    "            flag, loc = self.binary_search(numbers,diff)\n",
    "            if flag:\n",
    "                return [left+1, loc+1]\n",
    "            \n",
    "            else:\n",
    "                return []\n",
    "            \n",
    "            left+=1"
   ]
  },
  {
   "cell_type": "code",
   "execution_count": null,
   "id": "961bcfb4",
   "metadata": {},
   "outputs": [],
   "source": [
    "obj = Solution()"
   ]
  },
  {
   "cell_type": "code",
   "execution_count": null,
   "id": "1d4569f0",
   "metadata": {},
   "outputs": [],
   "source": [
    "obj.twoSum([2,7,11,15],9)"
   ]
  },
  {
   "cell_type": "code",
   "execution_count": null,
   "id": "94837389",
   "metadata": {},
   "outputs": [],
   "source": [
    "def reverse_string(s):\n",
    "    \n",
    "    "
   ]
  },
  {
   "cell_type": "code",
   "execution_count": null,
   "id": "379c14df",
   "metadata": {},
   "outputs": [],
   "source": [
    "s = ['h','e','l','l','o']"
   ]
  },
  {
   "cell_type": "code",
   "execution_count": null,
   "id": "39f4c1dc",
   "metadata": {},
   "outputs": [],
   "source": [
    "l = len(s)\n",
    "a = l//2\n",
    "for i in range(a):\n",
    "    s[i], s[-(i+1)] = s[-(i+1)], s[i]"
   ]
  },
  {
   "cell_type": "code",
   "execution_count": null,
   "id": "30f081db",
   "metadata": {},
   "outputs": [],
   "source": [
    "s"
   ]
  },
  {
   "cell_type": "code",
   "execution_count": null,
   "id": "927fb99a",
   "metadata": {},
   "outputs": [],
   "source": [
    "#Reverse string words III\n",
    "\n",
    "string = 'God Ding'\n",
    "string = string.split(' ')"
   ]
  },
  {
   "cell_type": "code",
   "execution_count": null,
   "id": "f55054d6",
   "metadata": {},
   "outputs": [],
   "source": []
  },
  {
   "cell_type": "code",
   "execution_count": null,
   "id": "82182dc8",
   "metadata": {},
   "outputs": [],
   "source": [
    "f = 'God'"
   ]
  },
  {
   "cell_type": "code",
   "execution_count": null,
   "id": "d6de54bb",
   "metadata": {},
   "outputs": [],
   "source": [
    "f[::-1]"
   ]
  },
  {
   "cell_type": "code",
   "execution_count": null,
   "id": "f0f3cc44",
   "metadata": {},
   "outputs": [],
   "source": [
    "class singly_linked_list:\n",
    "    class _Node:\n",
    "        __slot__='val','_nxt'\n",
    "        def __init__(self,val):\n",
    "            self.val = val\n",
    "            self.next = None\n",
    "        \n",
    "    def __init__(self):\n",
    "        self.head=None\n",
    "        \n",
    "    \n",
    "    def insert_at_first(self, val):\n",
    "        Node = self._Node(val)\n",
    "        if not self.head:\n",
    "            self.head= Node\n",
    "        \n",
    "        else:\n",
    "            temp = self.head\n",
    "            self.head = Node\n",
    "            self.head.next = temp"
   ]
  },
  {
   "cell_type": "code",
   "execution_count": null,
   "id": "27894c9f",
   "metadata": {},
   "outputs": [],
   "source": [
    "linked_list = singly_linked_list()"
   ]
  },
  {
   "cell_type": "code",
   "execution_count": null,
   "id": "d22dfc0f",
   "metadata": {},
   "outputs": [],
   "source": [
    "#linked_list.insert_at_first(6)"
   ]
  },
  {
   "cell_type": "code",
   "execution_count": null,
   "id": "9074a0a9",
   "metadata": {},
   "outputs": [],
   "source": [
    "linked_list.insert_at_first(5)"
   ]
  },
  {
   "cell_type": "code",
   "execution_count": null,
   "id": "995c2fa0",
   "metadata": {},
   "outputs": [],
   "source": [
    "linked_list.insert_at_first(4)"
   ]
  },
  {
   "cell_type": "code",
   "execution_count": null,
   "id": "6004f6b5",
   "metadata": {},
   "outputs": [],
   "source": [
    "linked_list.insert_at_first(3)"
   ]
  },
  {
   "cell_type": "code",
   "execution_count": null,
   "id": "5e2f4a4d",
   "metadata": {},
   "outputs": [],
   "source": [
    "linked_list.insert_at_first(2)"
   ]
  },
  {
   "cell_type": "code",
   "execution_count": null,
   "id": "edf7a9cb",
   "metadata": {},
   "outputs": [],
   "source": [
    "linked_list.insert_at_first(1)"
   ]
  },
  {
   "cell_type": "code",
   "execution_count": null,
   "id": "50d1baf9",
   "metadata": {},
   "outputs": [],
   "source": [
    "head = linked_list.head"
   ]
  },
  {
   "cell_type": "code",
   "execution_count": null,
   "id": "fea42258",
   "metadata": {},
   "outputs": [],
   "source": [
    "def removeNthFromEnd(head, n):\n",
    "    def check_nth(node):\n",
    "        for i in range(n):\n",
    "            print(node.val)\n",
    "            node = node.next\n",
    "        return node\n",
    "    \n",
    "    p1 = p2 = head\n",
    "    while check_nth(p2):\n",
    "        print(f\"P1 {p1.val}\")\n",
    "        print(f\"P2 {p2.val}\")\n",
    "        p1 = p2\n",
    "        p2 = p2.next\n",
    "        print(f\"P1 {p1.val}\")\n",
    "        print(f\"P2 {p2.val}\")\n",
    "\n",
    "    if p1 == p2:\n",
    "        return p1.next\n",
    "    else:\n",
    "        p1.next = p2.next\n",
    "    return head"
   ]
  },
  {
   "cell_type": "code",
   "execution_count": null,
   "id": "180667c4",
   "metadata": {},
   "outputs": [],
   "source": [
    "removeNthFromEnd(head,2)"
   ]
  },
  {
   "cell_type": "code",
   "execution_count": null,
   "id": "fb06d9d4",
   "metadata": {},
   "outputs": [],
   "source": [
    "head.next.next.next.val"
   ]
  },
  {
   "cell_type": "code",
   "execution_count": null,
   "id": "e6d92f8c",
   "metadata": {},
   "outputs": [],
   "source": [
    "def check_nth(node):\n",
    "    for i in range(2):\n",
    "        print(node.val)\n",
    "        node = node.next\n",
    "    return node"
   ]
  },
  {
   "cell_type": "code",
   "execution_count": null,
   "id": "19366276",
   "metadata": {},
   "outputs": [],
   "source": [
    "check_nth(head)"
   ]
  },
  {
   "cell_type": "code",
   "execution_count": null,
   "id": "6c58138b",
   "metadata": {},
   "outputs": [],
   "source": [
    "string = 'dvdf'"
   ]
  },
  {
   "cell_type": "code",
   "execution_count": null,
   "id": "23a61b3b",
   "metadata": {},
   "outputs": [],
   "source": [
    "# find longest substring\n",
    "def longest_substr(s):\n",
    "    res = ''\n",
    "    left = 0\n",
    "    right = 1\n",
    "    while right<=len(s)-1:\n",
    "        if (s[left] not in res) and (s[right] not in res):\n",
    "            res+= s[left]\n",
    "            res+=s[right]\n",
    "            left+=1\n",
    "            right+=1\n",
    "        else:\n",
    "            left+=1\n",
    "            right+=1\n",
    "                    \n",
    "    return res"
   ]
  },
  {
   "cell_type": "code",
   "execution_count": null,
   "id": "d5d10dda",
   "metadata": {},
   "outputs": [],
   "source": [
    "longest_substr(string)"
   ]
  },
  {
   "cell_type": "code",
   "execution_count": null,
   "id": "009cfa08",
   "metadata": {},
   "outputs": [],
   "source": [
    "def longestUniqueSubsttr(string):\n",
    "      \n",
    "    # Creating a set to store the last positions of occurrence\n",
    "    seen = {}\n",
    "    maximum_length = 0\n",
    "  \n",
    "    # starting the initial point of window to index 0\n",
    "    start = 0\n",
    "      \n",
    "    for end in range(len(string)):\n",
    "        print(end)\n",
    "        print(seen)\n",
    "  \n",
    "        # Checking if we have already seen the element or not\n",
    "        if string[end] in seen:\n",
    "            print(f\" i am here {string[end]}\")\n",
    "            # If we have seen the number, move the start pointer\n",
    "            # to position after the last occurrence\n",
    "            print(f\"I am start {start}\")\n",
    "            start = max(start, seen[string[end]] + 1)\n",
    "            print(f\"I am start {start}\")\n",
    "        # Updating the last seen value of the character\n",
    "        seen[string[end]] = end\n",
    "        print(seen)\n",
    "        maximum_length = max(maximum_length, end-start + 1)\n",
    "    return maximum_length"
   ]
  },
  {
   "cell_type": "code",
   "execution_count": null,
   "id": "28c4fa51",
   "metadata": {},
   "outputs": [],
   "source": [
    "longestUniqueSubsttr('ABDEFGABEF')"
   ]
  },
  {
   "cell_type": "code",
   "execution_count": null,
   "id": "a6811771",
   "metadata": {},
   "outputs": [],
   "source": [
    "# max sum of sub array --Brute force time-complexity O(n^2)\n",
    "\n",
    "def max_sum_of_subarr(arr):\n",
    "    i=0\n",
    "    maxsum = -1\n",
    "    for i in range(0,len(arr)-1):\n",
    "        j=i\n",
    "        while j<i+3:\n",
    "            if sum(arr[i:j+1]) > maxsum:\n",
    "                maxsum  = sum(arr[i:j+1])\n",
    "            j+=1\n",
    "    return maxsum"
   ]
  },
  {
   "cell_type": "code",
   "execution_count": null,
   "id": "a5a6789e",
   "metadata": {},
   "outputs": [],
   "source": [
    "max_sum_of_subarr([2,3,5,2,9,7])"
   ]
  },
  {
   "cell_type": "code",
   "execution_count": null,
   "id": "4f862908",
   "metadata": {},
   "outputs": [],
   "source": [
    "#Optimized solution--Sliding Window \n",
    "\n"
   ]
  },
  {
   "cell_type": "code",
   "execution_count": null,
   "id": "c5c94293",
   "metadata": {},
   "outputs": [],
   "source": [
    "string = 'ABC'\n",
    "list(string)"
   ]
  },
  {
   "cell_type": "code",
   "execution_count": null,
   "id": "0f4df705",
   "metadata": {},
   "outputs": [],
   "source": [
    "def toString(List): \n",
    "    return ''.join(List) \n",
    "  \n",
    "# Function to print permutations of string \n",
    "# This function takes three parameters: \n",
    "# 1. String\n",
    "# 2. Starting index of the string \n",
    "# 3. Ending index of the string. \n",
    "def permute(a, l, r):\n",
    "    if l==r: \n",
    "        print(toString(a))\n",
    "    else: \n",
    "        for i in range(l,r):\n",
    "            a[l], a[i] = a[i], a[l]\n",
    "            permute(a, l+1, r)\n",
    "            a[l], a[i] = a[i], a[l]\n",
    "  \n",
    "string = \"123\"\n",
    "n = len(string) \n",
    "a = list(string) \n",
    "permute(a, 0, n)"
   ]
  },
  {
   "cell_type": "code",
   "execution_count": null,
   "id": "b8dc0de7",
   "metadata": {},
   "outputs": [],
   "source": [
    "def find_permutations(a,l,r, res=[]):\n",
    "    if l==r:\n",
    "        res.append(a[:])\n",
    "    else:\n",
    "        for i in range(l,r):\n",
    "            a[l],a[i] = a[i],a[l]\n",
    "            find_permutations(a, l+1,r)\n",
    "            a[l], a[i] = a[i], a[l]\n",
    "    return res"
   ]
  },
  {
   "cell_type": "code",
   "execution_count": null,
   "id": "1e6d8dd3",
   "metadata": {},
   "outputs": [],
   "source": [
    "find_permutations(list(\"123\"),0,len(\"123\"))"
   ]
  },
  {
   "cell_type": "code",
   "execution_count": null,
   "id": "c11340a8",
   "metadata": {},
   "outputs": [],
   "source": [
    "# Find Permutation of string s1 in s2\n",
    "# Fixed Sliding window type\n",
    "import collections\n",
    "s1 = 'a'\n",
    "s2 = 'ab'\n",
    "\n",
    "s1Map = collections.Counter(s1)\n",
    "\n",
    "for i in s1:\n",
    "    hashmap1[i]=1\n",
    "    \n",
    "# Sliding Window\n",
    "k = len(s1)\n",
    "n = len(s2)\n",
    "results = []\n",
    "for i in range(n-k):\n",
    "    s2Map = collections.Counter(s2[i:i+2])\n",
    "    print(s2Map)\n",
    "    if s1Map == s2Map:\n",
    "        results.append(True)\n",
    "    else:\n",
    "        results.append(False)\n",
    "        \n",
    "if True in results:\n",
    "    print(True)"
   ]
  },
  {
   "cell_type": "code",
   "execution_count": null,
   "id": "68e470f4",
   "metadata": {},
   "outputs": [],
   "source": [
    "s1Map"
   ]
  },
  {
   "cell_type": "code",
   "execution_count": null,
   "id": "843ac57d",
   "metadata": {},
   "outputs": [],
   "source": [
    "s2[0:3]"
   ]
  },
  {
   "cell_type": "code",
   "execution_count": null,
   "id": "d6ce0306",
   "metadata": {},
   "outputs": [],
   "source": []
  },
  {
   "cell_type": "code",
   "execution_count": null,
   "id": "47b1cb7f",
   "metadata": {},
   "outputs": [],
   "source": [
    "class Solution:\n",
    "    def permute(self, nums):\n",
    "        res = self.find_permutations(nums, 0,len(nums))\n",
    "        return res\n",
    "        \n",
    "        \n",
    "    def find_permutations(self, a,l,r, res=[]):\n",
    "        if l==r:\n",
    "            res.append(a[:])\n",
    "        else:\n",
    "            for i in range(l,r):\n",
    "                a[l],a[i] = a[i],a[l]\n",
    "                self.find_permutations(a, l+1,r)\n",
    "                a[l],a[i] = a[i],a[l]\n",
    "        return res"
   ]
  },
  {
   "cell_type": "code",
   "execution_count": null,
   "id": "334dc876",
   "metadata": {},
   "outputs": [],
   "source": [
    "obj = Solution()"
   ]
  },
  {
   "cell_type": "code",
   "execution_count": null,
   "id": "5420f4a8",
   "metadata": {},
   "outputs": [],
   "source": [
    "obj.permute([1,2,3])"
   ]
  },
  {
   "cell_type": "code",
   "execution_count": null,
   "id": "65a6d32e",
   "metadata": {},
   "outputs": [],
   "source": [
    "# Reverse string two pointer approch\n",
    "\n",
    "string = list('Ashutosh')\n",
    "\n",
    "i=0\n",
    "j=len(string)-1\n",
    "while i <=j:\n",
    "    temp = string[i]\n",
    "    string[i] = string[j]\n",
    "    string[j] = temp\n",
    "    i+=1\n",
    "    j-=1"
   ]
  },
  {
   "cell_type": "code",
   "execution_count": null,
   "id": "891d30a0",
   "metadata": {},
   "outputs": [],
   "source": [
    "string"
   ]
  },
  {
   "cell_type": "code",
   "execution_count": null,
   "id": "0f321cf7",
   "metadata": {},
   "outputs": [],
   "source": [
    "# infix to polish notation\n",
    "\n",
    "Q = '5*(6+2)-12/4'\n",
    "operands = ['1','2','3','4','5','6','7','8','9','10']\n",
    "operator = ['*','+','-','/','^']"
   ]
  },
  {
   "cell_type": "code",
   "execution_count": null,
   "id": "bee38581",
   "metadata": {},
   "outputs": [],
   "source": [
    "symbol_scanned = []\n",
    "stack =['(']\n",
    "P = []\n",
    "for ele in Q:\n",
    "    symbol_scanned.append(ele)"
   ]
  },
  {
   "cell_type": "code",
   "execution_count": null,
   "id": "abc1e33c",
   "metadata": {},
   "outputs": [],
   "source": [
    "symbol_scanned.append(')')"
   ]
  },
  {
   "cell_type": "code",
   "execution_count": null,
   "id": "b5b00841",
   "metadata": {},
   "outputs": [],
   "source": [
    "symbol_scanned"
   ]
  },
  {
   "cell_type": "code",
   "execution_count": null,
   "id": "455e1a9c",
   "metadata": {},
   "outputs": [],
   "source": [
    "#logic to push operand into P and operator into stack\n"
   ]
  },
  {
   "cell_type": "code",
   "execution_count": null,
   "id": "d39621cd",
   "metadata": {},
   "outputs": [],
   "source": [
    "P"
   ]
  },
  {
   "cell_type": "code",
   "execution_count": null,
   "id": "3d10da8b",
   "metadata": {},
   "outputs": [],
   "source": [
    "stack"
   ]
  },
  {
   "cell_type": "code",
   "execution_count": null,
   "id": "23c6a13f",
   "metadata": {},
   "outputs": [],
   "source": [
    "li =[1,2,3]"
   ]
  },
  {
   "cell_type": "code",
   "execution_count": null,
   "id": "458eb39f",
   "metadata": {},
   "outputs": [],
   "source": [
    "li[:-2]"
   ]
  },
  {
   "cell_type": "code",
   "execution_count": null,
   "id": "3a4dc680",
   "metadata": {},
   "outputs": [],
   "source": [
    "OPERATORS = set(['+', '-', '*', '/', '(', ')', '^'])  # set of operators\n",
    "\n",
    "PRIORITY = {'+':1, '-':1, '*':2, '/':2, '^':3} # dictionary having priorities \n",
    "\n",
    "def infix_to_postfix(expression): #input expression\n",
    "\n",
    "    stack = [] # initially stack empty\n",
    "\n",
    "    output = '' # initially output empty\n",
    "\n",
    "    for ch in expression:\n",
    "\n",
    "        if ch not in OPERATORS:  # if an operand then put it directly in postfix expression\n",
    "\n",
    "            output+= ch\n",
    "\n",
    "        elif ch=='(':  # else operators should be put in stack\n",
    "\n",
    "            stack.append('(')\n",
    "\n",
    "        elif ch==')':\n",
    "\n",
    "            while stack and stack[-1]!= '(':\n",
    "\n",
    "                output+=stack.pop()\n",
    "\n",
    "            stack.pop()\n",
    "\n",
    "        else:\n",
    "\n",
    "            # lesser priority can't be on top on higher or equal priority    \n",
    "\n",
    "             # so pop and put in output   \n",
    "\n",
    "            while stack and stack[-1]!='(' and PRIORITY[ch]<=PRIORITY[stack[-1]]:\n",
    "\n",
    "                output+=stack.pop()\n",
    "\n",
    "            stack.append(ch)\n",
    "\n",
    "    while stack:\n",
    "\n",
    "        output+=stack.pop()\n",
    "\n",
    "    return output"
   ]
  },
  {
   "cell_type": "code",
   "execution_count": null,
   "id": "f18dca71",
   "metadata": {},
   "outputs": [],
   "source": [
    "infix_to_postfix('A+(B*C-(D/E^F)*G)*H')"
   ]
  },
  {
   "cell_type": "code",
   "execution_count": null,
   "id": "d62ce776",
   "metadata": {
    "scrolled": true
   },
   "outputs": [],
   "source": [
    "#Quick Sort\n",
    "\n",
    "def QuickSort(arr):\n",
    "\n",
    "    elements = len(arr)\n",
    "    \n",
    "    #Base case\n",
    "    if elements < 2:\n",
    "        return arr\n",
    "    \n",
    "    current_position = 0 #Position of the partitioning element\n",
    "\n",
    "    for i in range(1, elements): #Partitioning loop\n",
    "        if arr[i] <= arr[0]:\n",
    "            current_position += 1\n",
    "            temp = arr[i]\n",
    "            arr[i] = arr[current_position]\n",
    "            arr[current_position] = temp   \n",
    "            \n",
    "    print(f\"I am present:{current_position}\")\n",
    "    temp = arr[0]\n",
    "    arr[0] = arr[current_position] \n",
    "    arr[current_position] = temp #Brings pivot to it's appropriate position\n",
    "    print(f\"I am sorted:{arr}\")\n",
    "    left = QuickSort(arr[0:current_position]) #Sorts the elements to the left of pivot\n",
    "    right = QuickSort(arr[current_position+1:elements]) #sorts the elements to the right of pivot\n",
    "\n",
    "    arr = left + [arr[current_position]] + right #Merging everything together\n",
    "    \n",
    "    return arr\n",
    "\n",
    "\n",
    "\n",
    "array_to_be_sorted = [22,11,88,66,55,77,33,44]\n",
    "print(\"Original Array: \",array_to_be_sorted)\n",
    "print(\"Sorted Array: \",QuickSort(array_to_be_sorted))"
   ]
  },
  {
   "cell_type": "code",
   "execution_count": null,
   "id": "a5597cb3",
   "metadata": {},
   "outputs": [],
   "source": [
    "## Find all substrings\n",
    "\n",
    "string = 'pwwkew'"
   ]
  },
  {
   "cell_type": "code",
   "execution_count": null,
   "id": "6acbd161",
   "metadata": {},
   "outputs": [],
   "source": [
    "substring_holder = set()\n",
    "\n",
    "def bool_unique(string):\n",
    "    if len(set(string))< len(string):\n",
    "        return False\n",
    "    return True\n",
    "\n",
    "i=0\n",
    "j=0\n",
    "substring = ''\n",
    "max_length = 0\n",
    "while j <= len(string)-1:\n",
    "    substring += string[j]\n",
    "    if not bool_unique(substring):\n",
    "        i+=1\n",
    "        j=i\n",
    "        substring=''\n",
    "    else:\n",
    "        substring_holder.add(substring)\n",
    "        if len(substring) > max_length:\n",
    "            max_length =  len(substring)\n",
    "        j+=1\n",
    "\n",
    "\n",
    "i+=1\n",
    "j=i\n",
    "substring = ''\n",
    "while i <=len(string)-1 and j <=len(string)-1:\n",
    "    substring += string[j]\n",
    "    if not bool_unique(substring):\n",
    "        i+=1\n",
    "        j=i\n",
    "        substring=''\n",
    "    else:\n",
    "        substring_holder.add(substring)\n",
    "        if len(substring) > max_length:\n",
    "            max_length =  len(substring)\n",
    "        j+=1"
   ]
  },
  {
   "cell_type": "code",
   "execution_count": null,
   "id": "f7919ea8",
   "metadata": {},
   "outputs": [],
   "source": [
    "substring_holder"
   ]
  },
  {
   "cell_type": "code",
   "execution_count": null,
   "id": "5ff287f8",
   "metadata": {},
   "outputs": [],
   "source": [
    "max_length"
   ]
  },
  {
   "cell_type": "code",
   "execution_count": null,
   "id": "f59b5410",
   "metadata": {},
   "outputs": [],
   "source": [
    "#Optimized approach to find longest sbustring without repitition\n",
    "\n",
    "def lengthOfLongestSubstring(s):\n",
    "        seen = {}\n",
    "        start = 0\n",
    "        maximum_length = 0\n",
    "        for end in range(len(s)):\n",
    "            if s[end] in seen:\n",
    "                start = max(start, seen[s[end]] + 1)\n",
    "                print(start)\n",
    "            seen[s[end]] = end\n",
    "            print(seen)\n",
    "            maximum_length = max(maximum_length, end-start + 1)\n",
    "        return maximum_length"
   ]
  },
  {
   "cell_type": "code",
   "execution_count": null,
   "id": "04764c3f",
   "metadata": {},
   "outputs": [],
   "source": [
    "lengthOfLongestSubstring('pwwkew')"
   ]
  },
  {
   "cell_type": "code",
   "execution_count": null,
   "id": "ad3af9b1",
   "metadata": {},
   "outputs": [],
   "source": [
    "# Function for nth Fibonacci number\n",
    "def Fibonacci(n):\n",
    "   \n",
    "    # Check if input is 0 then it will\n",
    "    # print incorrect input\n",
    "    if n < 0:\n",
    "        print(\"Incorrect input\")\n",
    " \n",
    "    # Check if n is 0\n",
    "    # then it will return 0\n",
    "    elif n == 0:\n",
    "        return 0\n",
    " \n",
    "    # Check if n is 1,2\n",
    "    # it will return 1\n",
    "    elif n == 1 or n == 2:\n",
    "        return 1\n",
    " \n",
    "    else:\n",
    "        return Fibonacci(n-1) + Fibonacci(n-2)  "
   ]
  },
  {
   "cell_type": "code",
   "execution_count": null,
   "id": "193f9f21",
   "metadata": {},
   "outputs": [],
   "source": [
    "import time\n",
    "\n",
    "s = time.perf_counter()\n",
    "Fibonacci(35)\n",
    "elapsed = time.perf_counter() - s\n",
    "print(elapsed)"
   ]
  },
  {
   "cell_type": "code",
   "execution_count": null,
   "id": "af1d8c7b",
   "metadata": {},
   "outputs": [],
   "source": [
    "li=[1,2,3]"
   ]
  },
  {
   "cell_type": "code",
   "execution_count": null,
   "id": "5f53a4af",
   "metadata": {},
   "outputs": [],
   "source": [
    "li.pop()"
   ]
  },
  {
   "cell_type": "code",
   "execution_count": null,
   "id": "d9195fc9",
   "metadata": {},
   "outputs": [],
   "source": [
    "# Fibonacci Series using Dynamic Programming\n",
    "def fibonacci(n):\n",
    "     \n",
    "    # Taking 1st two fibonacci numbers as 0 and 1\n",
    "    f = [0, 1]\n",
    "     \n",
    "     \n",
    "    for i in range(2, n+1):\n",
    "        f.append(f[i-1] + f[i-2])\n",
    "    return f[n]"
   ]
  },
  {
   "cell_type": "code",
   "execution_count": null,
   "id": "eec0a975",
   "metadata": {},
   "outputs": [],
   "source": [
    "def tower_of_hanoi(source, aux=[],destination=[]):\n",
    "    if len(source)==1:\n",
    "        last_plate = source.pop()\n",
    "        destination.append(last_plate)\n",
    "        destination.extend(aux)  \n",
    "        return \n",
    "        \n",
    "        \n",
    "    plate = source.pop()\n",
    "    aux.append(plate)\n",
    "    aux.sort(reverse=True)\n",
    "    tower_of_hanoi(source,aux,destination)\n",
    "    return (f\" Source Tower: {source} Destination Tower: {destination}\")"
   ]
  },
  {
   "cell_type": "code",
   "execution_count": null,
   "id": "d315173a",
   "metadata": {},
   "outputs": [],
   "source": [
    "tower_of_hanoi([8,7,6,5,4,3,2,1])"
   ]
  },
  {
   "cell_type": "code",
   "execution_count": null,
   "id": "d304de42",
   "metadata": {},
   "outputs": [],
   "source": [
    "def findMedianSortedArrays(nums1, nums2):\n",
    "        nums1.extend(nums2)\n",
    "        nums1 = sorted(nums1)\n",
    "        median = return_median(nums1)\n",
    "        return median\n",
    "\n",
    "def return_median(li,*args):\n",
    "    if len(li)%2==0:\n",
    "        mid_ele = round(len(li)/2)-1\n",
    "        median =(li[mid_ele-1] +li[mid_ele])/2            \n",
    "    else:\n",
    "        mid_ele = len(li)//2\n",
    "        median = li[mid_ele]\n",
    "    return median"
   ]
  },
  {
   "cell_type": "code",
   "execution_count": null,
   "id": "22832f45",
   "metadata": {},
   "outputs": [],
   "source": [
    "findMedianSortedArrays([],[3,4])"
   ]
  },
  {
   "cell_type": "code",
   "execution_count": null,
   "id": "4b168aa2",
   "metadata": {},
   "outputs": [],
   "source": [
    "li = []"
   ]
  },
  {
   "cell_type": "code",
   "execution_count": null,
   "id": "82a5fd17",
   "metadata": {},
   "outputs": [],
   "source": [
    "li.extend(li1)"
   ]
  },
  {
   "cell_type": "code",
   "execution_count": null,
   "id": "b79f324d",
   "metadata": {},
   "outputs": [],
   "source": [
    "li"
   ]
  },
  {
   "cell_type": "code",
   "execution_count": null,
   "id": "4233b84e",
   "metadata": {},
   "outputs": [],
   "source": [
    "[1,3,2,4].sort()"
   ]
  },
  {
   "cell_type": "code",
   "execution_count": null,
   "id": "69458641",
   "metadata": {},
   "outputs": [],
   "source": []
  },
  {
   "cell_type": "code",
   "execution_count": null,
   "id": "ffb72c69",
   "metadata": {},
   "outputs": [],
   "source": [
    "4//2"
   ]
  },
  {
   "cell_type": "code",
   "execution_count": null,
   "id": "38cc1df0",
   "metadata": {},
   "outputs": [],
   "source": [
    "4/2"
   ]
  },
  {
   "cell_type": "code",
   "execution_count": null,
   "id": "1acc136f",
   "metadata": {},
   "outputs": [],
   "source": [
    "def mergeKLists(self, lists: List[ListNode]) -> ListNode:\n",
    "        merged_list = []\n",
    "        head = point = ListNode(0)\n",
    "        if lists:\n",
    "            for current_node in lists:\n",
    "                while current_node:\n",
    "                    merged_list.append(current_node.val)\n",
    "                    current_node = current_node.next\n",
    "                    \n",
    "        for ele in sorted(merged_list):\n",
    "            point.next = ListNode(ele)\n",
    "            point = point.next\n",
    "        return head.next  "
   ]
  },
  {
   "cell_type": "code",
   "execution_count": null,
   "id": "4bf494ac",
   "metadata": {},
   "outputs": [],
   "source": [
    "# Longest Consequetive sequence"
   ]
  },
  {
   "cell_type": "code",
   "execution_count": null,
   "id": "86378619",
   "metadata": {},
   "outputs": [],
   "source": [
    "arr = [100,4,200,1,,]"
   ]
  },
  {
   "cell_type": "code",
   "execution_count": null,
   "id": "5de27721",
   "metadata": {},
   "outputs": [],
   "source": [
    "arr"
   ]
  },
  {
   "cell_type": "code",
   "execution_count": null,
   "id": "1849bbd2",
   "metadata": {},
   "outputs": [],
   "source": [
    "def longest_consequetive_sequence(arr):\n",
    "    i = 0\n",
    "    j = 1\n",
    "    if not arr:\n",
    "        return 0\n",
    "    if len(arr)==1:\n",
    "        return 1\n",
    "\n",
    "    main_set = set()\n",
    "    tentative_set = set()\n",
    "    arr = sorted(arr)\n",
    "    while j <= len(arr)-1:\n",
    "        if arr[j]-arr[i]==1 or arr[j]-arr[i]==0:\n",
    "            tentative_set.add(arr[i])\n",
    "            tentative_set.add(arr[j])\n",
    "            i+=1\n",
    "        else:\n",
    "            i=j\n",
    "            tentative_set = set()\n",
    "\n",
    "        \n",
    "        j+=1\n",
    "        if len(tentative_set) > len(main_set):\n",
    "            main_set = tentative_set\n",
    "    return len(main_set)"
   ]
  },
  {
   "cell_type": "code",
   "execution_count": null,
   "id": "9d9b2932",
   "metadata": {},
   "outputs": [],
   "source": [
    "longest_consequetive_sequence(arr)"
   ]
  },
  {
   "cell_type": "code",
   "execution_count": null,
   "id": "f19f6baa",
   "metadata": {},
   "outputs": [],
   "source": [
    "\n",
    "sorted([9,1,4,7,3,-1,0,5,8,-1,6])"
   ]
  },
  {
   "cell_type": "code",
   "execution_count": null,
   "id": "1eff7877",
   "metadata": {},
   "outputs": [],
   "source": [
    "# Trees ***************** IMPORTANT TOPIC *********************"
   ]
  },
  {
   "cell_type": "code",
   "execution_count": null,
   "id": "32333e08",
   "metadata": {},
   "outputs": [],
   "source": [
    "class BinaryTree:\n",
    "    class Node:\n",
    "        def __init__(self, data):\n",
    "            self.data = data\n",
    "            self.r_child = None\n",
    "            self.l_child = None\n",
    "    def __init__(self):\n",
    "        self.root = None\n",
    "\n",
    "    def insert_binary(self,root,child_node):\n",
    "        if root is None:\n",
    "            root = child_node            \n",
    "        else:\n",
    "              \n",
    "                self.insert_binary(root.l_child, child_node)\n",
    "                    \n",
    "\n",
    "            if root.r_child is None:\n",
    "                root.r_child = child_node\n",
    "            else:\n",
    "                self.insert_binary(root.r_child, child_node)\n",
    "\n",
    "    \n",
    "    def in_order_traversal(self, root):\n",
    "        if not root:\n",
    "            return 'No root provided'\n",
    "        self.in_order_traversal(root.l_child)\n",
    "        print(root.data)\n",
    "        self.in_order_traversal(root.r_child)"
   ]
  },
  {
   "cell_type": "code",
   "execution_count": null,
   "id": "d9bfbaa7",
   "metadata": {},
   "outputs": [],
   "source": [
    "BT = BinaryTree()"
   ]
  },
  {
   "cell_type": "code",
   "execution_count": null,
   "id": "765a87e9",
   "metadata": {},
   "outputs": [],
   "source": [
    "BT.insert_binary(BT.Node(10),BT.Node(9))"
   ]
  },
  {
   "cell_type": "code",
   "execution_count": null,
   "id": "4d5f2365",
   "metadata": {},
   "outputs": [],
   "source": [
    "# Morris Traversal"
   ]
  },
  {
   "cell_type": "code",
   "execution_count": null,
   "id": "213d376b",
   "metadata": {},
   "outputs": [],
   "source": [
    "class Node:\n",
    "    \"\"\"A binary tree node\"\"\"\n",
    " \n",
    "    def __init__(self, data, left=None, right=None):\n",
    "        self.data = data\n",
    "        self.left = left\n",
    "        self.right = right\n",
    " \n",
    " \n",
    "def morris_traversal(root):\n",
    "    \"\"\"Generator function for\n",
    "      iterative inorder tree traversal\"\"\"\n",
    " \n",
    "    current = root\n",
    " \n",
    "    while current is not None:\n",
    " \n",
    "        if current.left is None:\n",
    "            yield current.data\n",
    "            current = current.right\n",
    "        else:\n",
    " \n",
    "            # Find the inorder\n",
    "            # predecessor of current\n",
    "            pre = current.left\n",
    "            while pre.right is not None and pre.right is not current:\n",
    "                pre = pre.right\n",
    " \n",
    "            if pre.right is None:\n",
    " \n",
    "                # Make current as right\n",
    "                # child of its inorder predecessor\n",
    "                pre.right = current\n",
    "                current = current.left\n",
    " \n",
    "            else:\n",
    "                # Revert the changes made\n",
    "                # in the 'if' part to restore the\n",
    "                # original tree. i.e., fix\n",
    "                # the right child of predecessor\n",
    "                pre.right = None\n",
    "                yield current.data\n",
    "                current = current.right"
   ]
  },
  {
   "cell_type": "code",
   "execution_count": null,
   "id": "aefdca27",
   "metadata": {},
   "outputs": [],
   "source": [
    "def bubbleSort(arr):\n",
    "     \n",
    "    n = len(arr)\n",
    " \n",
    "    # For loop to traverse through all\n",
    "    # element in an array\n",
    "    for i in range(n):\n",
    "        print(f\"I am i {i}\")\n",
    "        for j in range(0, n - i - 1):\n",
    "            print(f\"I am j {j}\")\n",
    "            # Range of the array is from 0 to n-i-1\n",
    "            # Swap the elements if the element found\n",
    "            #is greater than the adjacent element\n",
    "            if arr[j] > arr[j + 1]:\n",
    "                arr[j], arr[j + 1] = arr[j + 1], arr[j]\n",
    "            print(arr)"
   ]
  },
  {
   "cell_type": "code",
   "execution_count": null,
   "id": "d2edf85c",
   "metadata": {},
   "outputs": [],
   "source": [
    "bubbleSort([4,3,7,2,1,6])"
   ]
  },
  {
   "cell_type": "code",
   "execution_count": 12,
   "id": "ae329a51",
   "metadata": {},
   "outputs": [],
   "source": [
    "def mergeSort(arr):\n",
    "    if len(arr) > 1:\n",
    " \n",
    "         # Finding the mid of the array\n",
    "        mid = len(arr)//2\n",
    " \n",
    "        # Dividing the array elements\n",
    "        L = arr[:mid]\n",
    " \n",
    "        # into 2 halves\n",
    "        R = arr[mid:]\n",
    " \n",
    "        # Sorting the first half\n",
    "        mergeSort(L)\n",
    " \n",
    "        # Sorting the second half\n",
    "        mergeSort(R)\n",
    " \n",
    "        i = j = k = 0\n",
    " \n",
    "        # Copy data to temp arrays L[] and R[]\n",
    "        while i < len(L) and j < len(R):\n",
    "            print(f\"I am if k :{k}\")\n",
    "            if L[i] <= R[j]:\n",
    "                print(arr)\n",
    "                arr[k] = L[i]\n",
    "                print(arr)\n",
    "                i += 1\n",
    "            else:\n",
    "                print(f\"I am else k :{k}\")\n",
    "                print(arr)\n",
    "                arr[k] = R[j]\n",
    "                print(arr)\n",
    "                j += 1\n",
    "            k += 1\n",
    " \n",
    "        # Checking if any element was left\n",
    "        while i < len(L):\n",
    "            print(arr)\n",
    "            arr[k] = L[i]\n",
    "            print(arr)\n",
    "            i += 1\n",
    "            k += 1\n",
    " \n",
    "        while j < len(R):\n",
    "            print(arr)\n",
    "            arr[k] = R[j]\n",
    "            print(arr)\n",
    "            j += 1\n",
    "            k += 1\n",
    "        print(arr)\n",
    "            \n",
    "def printList(arr):\n",
    "    for i in range(len(arr)):\n",
    "        print(arr[i], end=\" \")\n",
    "    print()"
   ]
  },
  {
   "cell_type": "code",
   "execution_count": 13,
   "id": "b40ce52a",
   "metadata": {},
   "outputs": [],
   "source": [
    "arr = [38,27,43,3,9,82,10]"
   ]
  },
  {
   "cell_type": "code",
   "execution_count": 14,
   "id": "62d9c96d",
   "metadata": {
    "scrolled": true
   },
   "outputs": [
    {
     "name": "stdout",
     "output_type": "stream",
     "text": [
      "I am if k :0\n",
      "[27, 43]\n",
      "[27, 43]\n",
      "[27, 43]\n",
      "[27, 43]\n",
      "[27, 43]\n",
      "I am if k :0\n",
      "I am else k :0\n",
      "[38, 27, 43]\n",
      "[27, 27, 43]\n",
      "I am if k :1\n",
      "[27, 27, 43]\n",
      "[27, 38, 43]\n",
      "[27, 38, 43]\n",
      "[27, 38, 43]\n",
      "[27, 38, 43]\n",
      "I am if k :0\n",
      "[3, 9]\n",
      "[3, 9]\n",
      "[3, 9]\n",
      "[3, 9]\n",
      "[3, 9]\n",
      "I am if k :0\n",
      "I am else k :0\n",
      "[82, 10]\n",
      "[10, 10]\n",
      "[10, 10]\n",
      "[10, 82]\n",
      "[10, 82]\n",
      "I am if k :0\n",
      "[3, 9, 82, 10]\n",
      "[3, 9, 82, 10]\n",
      "I am if k :1\n",
      "[3, 9, 82, 10]\n",
      "[3, 9, 82, 10]\n",
      "[3, 9, 82, 10]\n",
      "[3, 9, 10, 10]\n",
      "[3, 9, 10, 10]\n",
      "[3, 9, 10, 82]\n",
      "[3, 9, 10, 82]\n",
      "I am if k :0\n",
      "I am else k :0\n",
      "[38, 27, 43, 3, 9, 82, 10]\n",
      "[3, 27, 43, 3, 9, 82, 10]\n",
      "I am if k :1\n",
      "I am else k :1\n",
      "[3, 27, 43, 3, 9, 82, 10]\n",
      "[3, 9, 43, 3, 9, 82, 10]\n",
      "I am if k :2\n",
      "I am else k :2\n",
      "[3, 9, 43, 3, 9, 82, 10]\n",
      "[3, 9, 10, 3, 9, 82, 10]\n",
      "I am if k :3\n",
      "[3, 9, 10, 3, 9, 82, 10]\n",
      "[3, 9, 10, 27, 9, 82, 10]\n",
      "I am if k :4\n",
      "[3, 9, 10, 27, 9, 82, 10]\n",
      "[3, 9, 10, 27, 38, 82, 10]\n",
      "I am if k :5\n",
      "[3, 9, 10, 27, 38, 82, 10]\n",
      "[3, 9, 10, 27, 38, 43, 10]\n",
      "[3, 9, 10, 27, 38, 43, 10]\n",
      "[3, 9, 10, 27, 38, 43, 82]\n",
      "[3, 9, 10, 27, 38, 43, 82]\n"
     ]
    }
   ],
   "source": [
    "mergeSort(arr)"
   ]
  },
  {
   "cell_type": "code",
   "execution_count": 15,
   "id": "1d68290e",
   "metadata": {},
   "outputs": [
    {
     "name": "stdout",
     "output_type": "stream",
     "text": [
      "3 9 10 27 38 43 82 \n"
     ]
    }
   ],
   "source": [
    "printList(arr)"
   ]
  },
  {
   "cell_type": "code",
   "execution_count": null,
   "id": "4a5f5e12",
   "metadata": {},
   "outputs": [],
   "source": [
    "#Canjump\n",
    "def canJump(nums):\n",
    "    print(f\"I got this arr:{nums}\")\n",
    "    total_steps = len(nums)-1\n",
    "    print(f\"I am total steps loop will run for : {total_steps}\")\n",
    "    if len(nums) == 1:\n",
    "        return True\n",
    "    for i in reversed(range(total_steps)):\n",
    "        print(f\"I am i : {i}\")\n",
    "        step = i + nums[i]\n",
    "        print(f\"I am step i will be compared with total steps:{step,total_steps}\")\n",
    "        if step >= total_steps :\n",
    "            arr = nums[0:i+1]\n",
    "            print(f\"I am array going on recursion: {arr}\")\n",
    "            return canJump(arr)\n",
    "        \n",
    "    return False"
   ]
  },
  {
   "cell_type": "code",
   "execution_count": null,
   "id": "edb89ece",
   "metadata": {},
   "outputs": [],
   "source": [
    "canJump([4,2,1,0,4])"
   ]
  },
  {
   "cell_type": "code",
   "execution_count": null,
   "id": "7f90eebf",
   "metadata": {},
   "outputs": [],
   "source": [
    "nums=[1,2,3,4,5]\n",
    "for i in reversed(range(len(nums)-1)):\n",
    "    print(i)"
   ]
  },
  {
   "cell_type": "code",
   "execution_count": null,
   "id": "29614448",
   "metadata": {},
   "outputs": [],
   "source": [
    "def nextPermutation(nums):\n",
    "        i = j = len(nums)-1\n",
    "        # First we'll find the first non-increasing element starting from the end\n",
    "        while i > 0 and nums[i-1] >= nums[i]:\n",
    "            i -= 1\n",
    "        # After completion of the first loop, there will be two cases\n",
    "        # 1. Our i becomes zero (This will happen if the given array is sorted decreasingly). \n",
    "        # In this case, we'll simply reverse the sequence and will return \n",
    "        if i == 0:\n",
    "            nums.reverse()\n",
    "            return \n",
    "        # 2. If it's not zero then we'll find the first number greater then nums[i-1] starting from end\n",
    "        while nums[j] <= nums[i-1]:\n",
    "            j -= 1\n",
    "        # Now our pointer is pointing at two different positions\n",
    "        # i. first non-ascending number from end\n",
    "        # j. first number greater than nums[i-1]\n",
    "        # We'll swap these two numbers\n",
    "        nums[i-1], nums[j] = nums[j], nums[i-1]\n",
    "        # We'll reverse a sequence strating from i to end\n",
    "        print(nums)\n",
    "        print(i)\n",
    "        nums[i:]= nums[len(nums)-1:i-1:-1]\n",
    "        print(nums)\n",
    "        # We don't need to return anything as we've modified nums in-place"
   ]
  },
  {
   "cell_type": "code",
   "execution_count": null,
   "id": "38822316",
   "metadata": {},
   "outputs": [],
   "source": [
    "arr = [1,2,3]\n",
    "nextPermutation(arr)"
   ]
  },
  {
   "cell_type": "code",
   "execution_count": null,
   "id": "437fd901",
   "metadata": {},
   "outputs": [],
   "source": [
    "arr[2:1-1]"
   ]
  },
  {
   "cell_type": "code",
   "execution_count": null,
   "id": "32be22ca",
   "metadata": {},
   "outputs": [],
   "source": []
  },
  {
   "cell_type": "code",
   "execution_count": null,
   "id": "61ee30fe",
   "metadata": {},
   "outputs": [],
   "source": [
    "def findFirst(nums, target):\n",
    "            out = -1\n",
    "            start = 0\n",
    "            end = len(nums)-1\n",
    "\n",
    "            while start <= end:\n",
    "                print(f\"I am start:{start}\")\n",
    "                print(f\"I am end:{end}\")\n",
    "                mid = (start+end)//2\n",
    "                print(mid)\n",
    "                if nums[mid]>= target:\n",
    "                    end = mid-1\n",
    "                else:\n",
    "                    start = mid+1\n",
    "                if nums[mid] == target:\n",
    "                    out = mid\n",
    "            return out\n",
    "\n",
    "def findLast(nums, target):\n",
    "            out = -1\n",
    "            start = 0\n",
    "            end = len(nums)-1\n",
    "\n",
    "            while start<= end:\n",
    "                mid = (start+end)//2\n",
    "                if nums[mid]<=target:\n",
    "                    start = mid + 1\n",
    "                else:\n",
    "                    end = mid -1\n",
    "                if nums[mid] == target:\n",
    "                    out = mid\n",
    "            return out"
   ]
  },
  {
   "cell_type": "code",
   "execution_count": null,
   "id": "847ec1b8",
   "metadata": {},
   "outputs": [],
   "source": [
    "findFirst([5,7,7,8,8,10],8)"
   ]
  },
  {
   "cell_type": "code",
   "execution_count": null,
   "id": "761e419c",
   "metadata": {},
   "outputs": [],
   "source": [
    "class ABC:\n",
    "    first= 'khem'\n",
    "    def A(self):\n",
    "        def B():\n",
    "            print(ABC.first)\n",
    "            \n",
    "        return B()"
   ]
  },
  {
   "cell_type": "code",
   "execution_count": null,
   "id": "8ccf21bb",
   "metadata": {},
   "outputs": [],
   "source": [
    "obj = ABC()"
   ]
  },
  {
   "cell_type": "code",
   "execution_count": null,
   "id": "5703fb8c",
   "metadata": {},
   "outputs": [],
   "source": [
    "obj.A()"
   ]
  },
  {
   "cell_type": "code",
   "execution_count": null,
   "id": "989e3898",
   "metadata": {},
   "outputs": [],
   "source": [
    "arr = [10,5,3,5]\n",
    "target = 8"
   ]
  },
  {
   "cell_type": "code",
   "execution_count": null,
   "id": "df63db8e",
   "metadata": {},
   "outputs": [],
   "source": [
    "li = [0,1,0,2,1,0,1,3,2,1,2,1]"
   ]
  },
  {
   "cell_type": "code",
   "execution_count": null,
   "id": "2c379807",
   "metadata": {},
   "outputs": [],
   "source": [
    "maxleft = [0]* (len(li))\n",
    "maxright = [0]* (len(li))\n",
    "maxleft[0] = li[0]\n",
    "maxright[-1] = li[-1]\n",
    "left = 1\n",
    "right  = len(li)-2\n",
    "while left <= len(li)-1:\n",
    "    maxleft[left] = max(maxleft[left-1],li[left])\n",
    "    left+=1\n",
    "    \n",
    "while right >= 0:\n",
    "    maxright[right] = max(maxright[right+1], li[right])\n",
    "    right-=1\n",
    "    \n",
    "total_water = []\n",
    "for index, value in enumerate(maxright):\n",
    "    total_water.append(min(value, maxleft[index])- li[index])"
   ]
  },
  {
   "cell_type": "code",
   "execution_count": null,
   "id": "6dc518b2",
   "metadata": {},
   "outputs": [],
   "source": []
  },
  {
   "cell_type": "code",
   "execution_count": null,
   "id": "f0da9861",
   "metadata": {},
   "outputs": [],
   "source": [
    "li"
   ]
  },
  {
   "cell_type": "code",
   "execution_count": null,
   "id": "95c52a84",
   "metadata": {},
   "outputs": [],
   "source": [
    "maxleft"
   ]
  },
  {
   "cell_type": "code",
   "execution_count": null,
   "id": "0bd625f3",
   "metadata": {},
   "outputs": [],
   "source": [
    "maxright"
   ]
  },
  {
   "cell_type": "code",
   "execution_count": null,
   "id": "3eddcdea",
   "metadata": {},
   "outputs": [],
   "source": []
  },
  {
   "cell_type": "code",
   "execution_count": null,
   "id": "4d4243ff",
   "metadata": {},
   "outputs": [],
   "source": [
    "maxleft"
   ]
  },
  {
   "cell_type": "code",
   "execution_count": null,
   "id": "3b12b89a",
   "metadata": {},
   "outputs": [],
   "source": [
    "maxright"
   ]
  },
  {
   "cell_type": "code",
   "execution_count": null,
   "id": "9be90c95",
   "metadata": {},
   "outputs": [],
   "source": []
  },
  {
   "cell_type": "code",
   "execution_count": null,
   "id": "8a7479de",
   "metadata": {},
   "outputs": [],
   "source": [
    "sum(total_water)"
   ]
  },
  {
   "cell_type": "code",
   "execution_count": null,
   "id": "c059671e",
   "metadata": {},
   "outputs": [],
   "source": [
    "import shutil"
   ]
  },
  {
   "cell_type": "code",
   "execution_count": null,
   "id": "c77f88b9",
   "metadata": {},
   "outputs": [],
   "source": [
    "import os"
   ]
  },
  {
   "cell_type": "code",
   "execution_count": null,
   "id": "017a403b",
   "metadata": {},
   "outputs": [],
   "source": [
    "shutil.copytree('/home/kh.sharma/Documents/Airtel_bills/','/home/kh.sharma/folder_using_python/')"
   ]
  },
  {
   "cell_type": "code",
   "execution_count": null,
   "id": "8bd84ddf",
   "metadata": {},
   "outputs": [],
   "source": [
    "d1 = {'a':1,\n",
    "     'b':2}"
   ]
  },
  {
   "cell_type": "code",
   "execution_count": null,
   "id": "6ace9365",
   "metadata": {},
   "outputs": [],
   "source": [
    "d2 = {'c':3,\n",
    "     'd':4}"
   ]
  },
  {
   "cell_type": "code",
   "execution_count": null,
   "id": "b413ac58",
   "metadata": {},
   "outputs": [],
   "source": [
    "d1 = {**d1,**d2}"
   ]
  },
  {
   "cell_type": "code",
   "execution_count": null,
   "id": "965d399a",
   "metadata": {},
   "outputs": [],
   "source": [
    "d1"
   ]
  },
  {
   "cell_type": "code",
   "execution_count": null,
   "id": "1d21213a",
   "metadata": {},
   "outputs": [],
   "source": [
    "li = [1,2,3]\n",
    "li2 = [4,5,6]\n",
    "li = [*li,*li2]"
   ]
  },
  {
   "cell_type": "code",
   "execution_count": null,
   "id": "7e42c1b6",
   "metadata": {},
   "outputs": [],
   "source": [
    "li"
   ]
  },
  {
   "cell_type": "code",
   "execution_count": null,
   "id": "7ecccc47",
   "metadata": {},
   "outputs": [],
   "source": [
    "def heapify(arr, n, i):\n",
    "    print(arr)\n",
    "    print(f\"I am heapify: {i}\")\n",
    "    largest = i\n",
    "    l = 2 * i + 1\n",
    "    r = 2 * i + 2 \n",
    "    \n",
    "    if l < n and arr[i] < arr[l]:\n",
    "        largest = l\n",
    "    \n",
    "    if r < n and arr[largest] < arr[r]:\n",
    "        largest = r\n",
    "    \n",
    "    if largest != i:\n",
    "        arr[i],arr[largest] = arr[largest],arr[i]\n",
    "        heapify(arr, n, largest)\n",
    "        \n",
    "        \n",
    "def deleteNode(array, num):\n",
    "    size = len(array)\n",
    "    i = 0\n",
    "    for i in range(0, size):\n",
    "        if num == array[i]:\n",
    "            break\n",
    "    print(i)\n",
    "    array[i], array[size-1] = array[size-1], array[i]\n",
    "\n",
    "    array.remove(num)\n",
    "    \n",
    "    for i in range((len(array)//2)-1, -1, -1):\n",
    "        heapify(array, len(array), i)\n",
    "\n",
    "\n",
    "def insert(array, newNum):\n",
    "    size = len(array)\n",
    "    if size == 0:\n",
    "        array.append(newNum)\n",
    "    else:\n",
    "        array.append(newNum)\n",
    "        for i in range((size//2)-1, -1, -1):\n",
    "            print(i)\n",
    "            print(f\"i am in for loop: {size}\")\n",
    "            heapify(array, size, i)"
   ]
  },
  {
   "cell_type": "code",
   "execution_count": null,
   "id": "f3700ea7",
   "metadata": {},
   "outputs": [],
   "source": [
    "arr = []\n",
    "\n",
    "insert(arr, 3)\n",
    "insert(arr, 4)\n",
    "insert(arr, 9)\n",
    "insert(arr, 5)\n",
    "insert(arr, 2)"
   ]
  },
  {
   "cell_type": "code",
   "execution_count": null,
   "id": "7c7bc1e0",
   "metadata": {},
   "outputs": [],
   "source": [
    "print(arr)\n",
    "deleteNode(arr, 4)"
   ]
  },
  {
   "cell_type": "code",
   "execution_count": null,
   "id": "79e02efd",
   "metadata": {},
   "outputs": [],
   "source": [
    "2//2"
   ]
  },
  {
   "cell_type": "code",
   "execution_count": null,
   "id": "7ef8cb3b",
   "metadata": {},
   "outputs": [],
   "source": [
    "for i in range((4//2)-1, -1, -1):\n",
    "    print(i)"
   ]
  },
  {
   "cell_type": "code",
   "execution_count": null,
   "id": "3f13fd83",
   "metadata": {},
   "outputs": [],
   "source": [
    "(1//2)-1"
   ]
  },
  {
   "cell_type": "code",
   "execution_count": null,
   "id": "0c2a77ec",
   "metadata": {},
   "outputs": [],
   "source": [
    "from collections import Counter"
   ]
  },
  {
   "cell_type": "code",
   "execution_count": null,
   "id": "f4da78f3",
   "metadata": {},
   "outputs": [],
   "source": [
    "arr = [1,1,1,1,2,2,3]"
   ]
  },
  {
   "cell_type": "code",
   "execution_count": null,
   "id": "a1cedd31",
   "metadata": {},
   "outputs": [],
   "source": [
    "hm = dict(Counter(arr))"
   ]
  },
  {
   "cell_type": "code",
   "execution_count": null,
   "id": "04f9f913",
   "metadata": {},
   "outputs": [],
   "source": [
    "hm"
   ]
  },
  {
   "cell_type": "code",
   "execution_count": null,
   "id": "87f6bb93",
   "metadata": {},
   "outputs": [],
   "source": [
    "hm = dict(sorted(hm.items(), key=lambda item: item[1], reverse = True))"
   ]
  },
  {
   "cell_type": "code",
   "execution_count": null,
   "id": "70f23935",
   "metadata": {},
   "outputs": [],
   "source": [
    "hm"
   ]
  },
  {
   "cell_type": "code",
   "execution_count": null,
   "id": "79d602e2",
   "metadata": {},
   "outputs": [],
   "source": [
    "list(hm)[:2]"
   ]
  },
  {
   "cell_type": "code",
   "execution_count": null,
   "id": "34565bd7",
   "metadata": {},
   "outputs": [],
   "source": [
    "d = {1:2}"
   ]
  },
  {
   "cell_type": "code",
   "execution_count": null,
   "id": "e63529bd",
   "metadata": {},
   "outputs": [],
   "source": [
    "list(d.keys())[0]"
   ]
  },
  {
   "cell_type": "code",
   "execution_count": null,
   "id": "1c4a4d43",
   "metadata": {},
   "outputs": [],
   "source": [
    "nums = [4,1,2,1,2]\n",
    "hm = dict(Counter(nums))\n",
    "hm = dict(sorted(hm.items(), key=lambda item: item[1]))"
   ]
  },
  {
   "cell_type": "code",
   "execution_count": null,
   "id": "bc966284",
   "metadata": {},
   "outputs": [],
   "source": [
    "list(hm.keys())[0]"
   ]
  },
  {
   "cell_type": "code",
   "execution_count": null,
   "id": "67c05142",
   "metadata": {},
   "outputs": [],
   "source": [
    "2%5"
   ]
  },
  {
   "cell_type": "code",
   "execution_count": null,
   "id": "a845f6ca",
   "metadata": {},
   "outputs": [],
   "source": [
    "nums = [1,2,3,4,5,6,7]\n",
    "k = 3"
   ]
  },
  {
   "cell_type": "code",
   "execution_count": null,
   "id": "030c190e",
   "metadata": {},
   "outputs": [],
   "source": [
    "le = len(nums)"
   ]
  },
  {
   "cell_type": "code",
   "execution_count": null,
   "id": "61746e30",
   "metadata": {},
   "outputs": [],
   "source": [
    "le"
   ]
  },
  {
   "cell_type": "code",
   "execution_count": null,
   "id": "e3d1256f",
   "metadata": {},
   "outputs": [],
   "source": [
    "valid_rotations = le - k%le"
   ]
  },
  {
   "cell_type": "code",
   "execution_count": null,
   "id": "c44cdc32",
   "metadata": {},
   "outputs": [],
   "source": [
    "valid_rotations"
   ]
  },
  {
   "cell_type": "code",
   "execution_count": null,
   "id": "5481ad5e",
   "metadata": {},
   "outputs": [],
   "source": [
    "nums[valid_rotations:] = nums[valid_rotations:][::-1]"
   ]
  },
  {
   "cell_type": "code",
   "execution_count": null,
   "id": "946b5c34",
   "metadata": {},
   "outputs": [],
   "source": [
    "nums[:valid_rotations] = nums[:valid_rotations][::-1]"
   ]
  },
  {
   "cell_type": "code",
   "execution_count": null,
   "id": "529c1f75",
   "metadata": {},
   "outputs": [],
   "source": [
    "nums"
   ]
  },
  {
   "cell_type": "code",
   "execution_count": null,
   "id": "cc82f37b",
   "metadata": {},
   "outputs": [],
   "source": [
    "nums[:] = nums[::-1]"
   ]
  },
  {
   "cell_type": "code",
   "execution_count": null,
   "id": "b7acaff4",
   "metadata": {},
   "outputs": [],
   "source": [
    "nums"
   ]
  },
  {
   "cell_type": "code",
   "execution_count": null,
   "id": "a296ce69",
   "metadata": {},
   "outputs": [],
   "source": [
    "k=2\n",
    "arr=[1,2,3,4,5,6,7]\n",
    "n = len(arr)\n",
    "k = k % n                 \n",
    "# Here reminder is taken because if we had 10 rotation but our array \n",
    "# is of size 9 then only 1 rotation is effective to produce ans.\n",
    "arr[n - k:] = arr[n - k:][::-1] # Reverse n - k to end of the array \n",
    "arr[:n - k] = arr[:n - k][::-1] # Reverse 0 to n - k\n",
    "arr[:] = arr[::-1]"
   ]
  },
  {
   "cell_type": "code",
   "execution_count": null,
   "id": "d4b55830",
   "metadata": {},
   "outputs": [],
   "source": [
    "arr"
   ]
  },
  {
   "cell_type": "code",
   "execution_count": null,
   "id": "adb88616",
   "metadata": {},
   "outputs": [],
   "source": [
    "arr = [1,2,3]\n",
    "def find_permutations(a,l,r,res):\n",
    "        if l==r:\n",
    "            print(f\"i am base condition\")\n",
    "            print(f\"I am array: {a[:]}\")\n",
    "            res.append(a[:])\n",
    "        else:\n",
    "            for i in range(l,r):\n",
    "                print(f\"I am i: {i}\")\n",
    "                print(f\"I am l:{l}\")\n",
    "                print(f\"I am r :{r}\")\n",
    "                a[l],a[i] = a[i],a[l]\n",
    "                find_permutations(a, l+1,r,res)\n",
    "                a[l],a[i] = a[i],a[l]\n",
    "        return res"
   ]
  },
  {
   "cell_type": "code",
   "execution_count": null,
   "id": "e1648d70",
   "metadata": {},
   "outputs": [],
   "source": [
    "find_permutations(arr, 0, len(arr), [])"
   ]
  },
  {
   "cell_type": "code",
   "execution_count": null,
   "id": "db525724",
   "metadata": {},
   "outputs": [],
   "source": [
    "data = [\n",
    "        {\n",
    "            \"city\": \"Castle Rock\",\n",
    "            \"products\": [\n",
    "                {\"name\": \"Elegant Bronze Soap\", \"price\": \"493.00\"},\n",
    "                {\"name\": \"Modern Fresh Ball\", \"price\": \"836.00\"},\n",
    "                {\"name\": \"Small Fresh Bacon\", \"price\": \"711.00\"},\n",
    "                {\"name\": \"Ergonomic Granite Salad\", \"price\": \"590.00\"},\n",
    "                {\"name\": \"Sleek Granite Shoes\", \"price\": \"422.00\"}\n",
    "            ],\n",
    "            \"id\": \"1\"\n",
    "        },\n",
    "        {\n",
    "            \"city\": \"Palatine\",\n",
    "            \"products\": [\n",
    "                {\"name\": \"Handmade Rubber Pizza\", \"price\": \"633.00\"},\n",
    "                {\"name\": \"Fantastic Granite Mouse\", \"price\": \"124.00\"},\n",
    "                {\"name\": \"Awesome Granite Shoes\", \"price\": \"585.00\"},\n",
    "                {\"name\": \"Rustic Frozen Ball\", \"price\": \"280.00\"},\n",
    "                {\"name\": \"Handmade Wooden Shirt\", \"price\": \"498.00\"}\n",
    "            ],\n",
    "            \"id\": \"2\"\n",
    "        }\n",
    "      ]\n",
    "\n",
    "\n",
    "# output : \n",
    "\n",
    "[{'city': 'Castle Rock',\n",
    "  'products': [('Modern Fresh Ball', '836.00'),\n",
    "   ('Small Fresh Bacon', '711.00'),\n",
    "   ('Ergonomic Granite Salad', '590.00')]},\n",
    " {'city': 'Palatine',\n",
    "  'products': [('Handmade Rubber Pizza', '633.00'),\n",
    "   ('Awesome Granite Shoes', '585.00'),\n",
    "   ('Handmade Wooden Shirt', '498.00')]}]"
   ]
  },
  {
   "cell_type": "code",
   "execution_count": null,
   "id": "874e51ea",
   "metadata": {},
   "outputs": [],
   "source": [
    "for value in data:\n",
    "    value['products'] = sorted(value['products'], key=lambda x: x['price'], reverse=True)[0:3]\n",
    "\n",
    "output = []    \n",
    "for ele in data:\n",
    "    output.append({'city':ele['city'],\n",
    "                  'products': [ tuple(i.values()) for i in ele['products']]})"
   ]
  },
  {
   "cell_type": "code",
   "execution_count": null,
   "id": "5e85146d",
   "metadata": {},
   "outputs": [],
   "source": [
    "\n",
    "\n",
    "output"
   ]
  },
  {
   "cell_type": "code",
   "execution_count": null,
   "id": "75911216",
   "metadata": {},
   "outputs": [],
   "source": [
    "from collections import ChainMap"
   ]
  },
  {
   "cell_type": "code",
   "execution_count": null,
   "id": "6b37b914",
   "metadata": {},
   "outputs": [],
   "source": [
    "li = [[43, [0]],12, 19, [13,[8, 8]], 21]"
   ]
  },
  {
   "cell_type": "code",
   "execution_count": null,
   "id": "8df07ac5",
   "metadata": {},
   "outputs": [],
   "source": [
    "def flatlist(l, res=[]):\n",
    "    for x in l:\n",
    "        if type(x) == list:\n",
    "            flatlist(x)\n",
    "        else:\n",
    "            res.append(x) \n",
    "    return res"
   ]
  },
  {
   "cell_type": "code",
   "execution_count": null,
   "id": "ee7e546d",
   "metadata": {},
   "outputs": [],
   "source": [
    "flatlist(li)"
   ]
  },
  {
   "cell_type": "code",
   "execution_count": null,
   "id": "e941c4b2",
   "metadata": {},
   "outputs": [],
   "source": [
    "(0+2)%4"
   ]
  },
  {
   "cell_type": "code",
   "execution_count": null,
   "id": "42b714fb",
   "metadata": {},
   "outputs": [],
   "source": [
    "li = [12, 35, 9, 56, 24]"
   ]
  },
  {
   "cell_type": "code",
   "execution_count": null,
   "id": "832900bf",
   "metadata": {},
   "outputs": [],
   "source": [
    "li[0],li[-1] = li[-1],li[0]"
   ]
  },
  {
   "cell_type": "code",
   "execution_count": null,
   "id": "e05a3cc0",
   "metadata": {},
   "outputs": [],
   "source": [
    "li"
   ]
  },
  {
   "cell_type": "code",
   "execution_count": null,
   "id": "7e84b742",
   "metadata": {},
   "outputs": [],
   "source": [
    "nums= [1,1,1,1,2,2,3]\n",
    "k=2\n",
    "from collections import Counter\n",
    "count = Counter(nums)\n",
    "print(count)\n",
    "freq = [[] for i in range(len(nums)+1)]\n",
    "for n, c in count.items():\n",
    "    freq[c].append(n)\n",
    "\n",
    "res = []\n",
    "print(freq)\n",
    "for i in range(len(freq)-1,0,-1):\n",
    "    print(i)\n",
    "    for n in freq[i]:\n",
    "        res.append(n)\n",
    "        if len(res)==k:\n",
    "            print(res)"
   ]
  },
  {
   "cell_type": "code",
   "execution_count": null,
   "id": "9d73bb6b",
   "metadata": {},
   "outputs": [],
   "source": [
    "li = [[1,2,3,4],[1,2],[1,2,3,4,5],[1]]"
   ]
  },
  {
   "cell_type": "code",
   "execution_count": null,
   "id": "8f5b718d",
   "metadata": {},
   "outputs": [],
   "source": [
    "# find max len list and its length"
   ]
  },
  {
   "cell_type": "code",
   "execution_count": null,
   "id": "09c1edb9",
   "metadata": {},
   "outputs": [],
   "source": [
    "mx1 = 0\n",
    "mx2 = 0\n",
    "for i in li:\n",
    "    if len(i) > mx1:\n",
    "        mx1 = len(li)\n",
    "        mx2 = i"
   ]
  },
  {
   "cell_type": "code",
   "execution_count": null,
   "id": "454b7b82",
   "metadata": {},
   "outputs": [],
   "source": [
    "max(li, key = lambda x: x)"
   ]
  },
  {
   "cell_type": "code",
   "execution_count": null,
   "id": "8da05a27",
   "metadata": {},
   "outputs": [],
   "source": [
    "mx2"
   ]
  },
  {
   "cell_type": "code",
   "execution_count": null,
   "id": "c2d64498",
   "metadata": {},
   "outputs": [],
   "source": [
    "li1 = [10,2,6,6,4,4]"
   ]
  },
  {
   "cell_type": "code",
   "execution_count": null,
   "id": "92091b5f",
   "metadata": {},
   "outputs": [],
   "source": [
    "mx = max(li1)\n",
    "mi = min(li1)"
   ]
  },
  {
   "cell_type": "code",
   "execution_count": null,
   "id": "ab67bf72",
   "metadata": {},
   "outputs": [],
   "source": [
    "mx"
   ]
  },
  {
   "cell_type": "code",
   "execution_count": null,
   "id": "4fe83e15",
   "metadata": {},
   "outputs": [],
   "source": [
    "mi"
   ]
  },
  {
   "cell_type": "code",
   "execution_count": null,
   "id": "a64c56e4",
   "metadata": {},
   "outputs": [],
   "source": [
    "pointer1=0\n",
    "pointer2 = len(li1)-1\n",
    "\n",
    "def helper(mx,mi):\n",
    "    return 2*mi > mx"
   ]
  },
  {
   "cell_type": "code",
   "execution_count": null,
   "id": "517de2e9",
   "metadata": {},
   "outputs": [],
   "source": [
    "while pointer1 < pointer2:\n",
    "    if helper(li1[pointer1], li1[pointer2]):\n",
    "        print(len(li1[pointer1+1:]))\n",
    "        print(li1[pointer1+1:])\n",
    "        break\n",
    "    \n",
    "    else:\n",
    "        pointer1+=1"
   ]
  },
  {
   "cell_type": "code",
   "execution_count": null,
   "id": "2e39806d",
   "metadata": {},
   "outputs": [],
   "source": [
    "helper(10,2)"
   ]
  },
  {
   "cell_type": "code",
   "execution_count": null,
   "id": "e082a53f",
   "metadata": {},
   "outputs": [],
   "source": [
    "def func(x, l):\n",
    "    for i in range(x):\n",
    "        l.append(i)\n",
    "    return l"
   ]
  },
  {
   "cell_type": "code",
   "execution_count": null,
   "id": "113fb491",
   "metadata": {},
   "outputs": [],
   "source": [
    "l= func(2,[])"
   ]
  },
  {
   "cell_type": "code",
   "execution_count": null,
   "id": "0536bd93",
   "metadata": {},
   "outputs": [],
   "source": [
    "l"
   ]
  },
  {
   "cell_type": "code",
   "execution_count": null,
   "id": "a6b61f83",
   "metadata": {},
   "outputs": [],
   "source": [
    "l= func(3, [1,2,3])"
   ]
  },
  {
   "cell_type": "code",
   "execution_count": null,
   "id": "9086f79d",
   "metadata": {},
   "outputs": [],
   "source": [
    "l"
   ]
  },
  {
   "cell_type": "code",
   "execution_count": null,
   "id": "b473fa6a",
   "metadata": {},
   "outputs": [],
   "source": [
    "l =func(3,[])"
   ]
  },
  {
   "cell_type": "code",
   "execution_count": null,
   "id": "142d9503",
   "metadata": {},
   "outputs": [],
   "source": [
    "l"
   ]
  },
  {
   "cell_type": "code",
   "execution_count": null,
   "id": "19dcd1df",
   "metadata": {},
   "outputs": [],
   "source": [
    "s = 'khem'"
   ]
  },
  {
   "cell_type": "code",
   "execution_count": null,
   "id": "a5265e8b",
   "metadata": {},
   "outputs": [],
   "source": [
    "s = 'Khem'\n",
    "l = []\n",
    "for i in s:\n",
    "    l.append(i)"
   ]
  },
  {
   "cell_type": "code",
   "execution_count": null,
   "id": "700579fa",
   "metadata": {},
   "outputs": [],
   "source": [
    "l[:] = l[::-1]"
   ]
  },
  {
   "cell_type": "code",
   "execution_count": null,
   "id": "87e7062b",
   "metadata": {},
   "outputs": [],
   "source": [
    "l"
   ]
  },
  {
   "cell_type": "code",
   "execution_count": null,
   "id": "75dc9994",
   "metadata": {},
   "outputs": [],
   "source": [
    "s = s[::-1]"
   ]
  },
  {
   "cell_type": "code",
   "execution_count": null,
   "id": "b58faa6f",
   "metadata": {},
   "outputs": [],
   "source": [
    "s"
   ]
  },
  {
   "cell_type": "code",
   "execution_count": null,
   "id": "899888e0",
   "metadata": {},
   "outputs": [],
   "source": [
    "s = 'Tutorials'"
   ]
  },
  {
   "cell_type": "code",
   "execution_count": null,
   "id": "d58b65f3",
   "metadata": {},
   "outputs": [],
   "source": [
    "s[-1:0:-2]+s[0]"
   ]
  },
  {
   "cell_type": "code",
   "execution_count": null,
   "id": "a6e20cd1",
   "metadata": {},
   "outputs": [],
   "source": [
    "s[0:2]"
   ]
  },
  {
   "cell_type": "code",
   "execution_count": null,
   "id": "e2532d0d",
   "metadata": {},
   "outputs": [],
   "source": [
    "s = s[::-1]"
   ]
  },
  {
   "cell_type": "code",
   "execution_count": null,
   "id": "a6b8fb47",
   "metadata": {},
   "outputs": [],
   "source": [
    "s"
   ]
  },
  {
   "cell_type": "code",
   "execution_count": null,
   "id": "f841008f",
   "metadata": {},
   "outputs": [],
   "source": [
    "lat_long = [{'id': 1, 'street': 'Sector-25', 'city': 'Faridabad', 'state': 'Haryana', 'country': 'India', 'zip': '121004', 'latitude': 28.3352279, 'longitude': 77.3079144}, {'id': 3, 'street': 'Jain Market', 'city': 'Meerut', 'state': 'Uttarpradesh', 'country': 'India', 'zip': '112233', 'latitude': 28.984644, 'longitude': 77.705956}, {'id': 4, 'street': 'Sector-11', 'city': 'Faridabad', 'state': 'Haryana', 'country': 'India', 'zip': '121006', 'latitude': 28.370417, 'longitude': 77.322013}]"
   ]
  },
  {
   "cell_type": "code",
   "execution_count": null,
   "id": "001c977e",
   "metadata": {},
   "outputs": [],
   "source": [
    "import pandas as pd"
   ]
  },
  {
   "cell_type": "code",
   "execution_count": null,
   "id": "c8bae9ef",
   "metadata": {},
   "outputs": [],
   "source": [
    "df = pd.DataFrame(lat_long)"
   ]
  },
  {
   "cell_type": "code",
   "execution_count": null,
   "id": "6d6de410",
   "metadata": {},
   "outputs": [],
   "source": [
    "df"
   ]
  },
  {
   "cell_type": "code",
   "execution_count": null,
   "id": "b8c66aaf",
   "metadata": {},
   "outputs": [],
   "source": [
    "user_lat = 28.335228\n",
    "user_long  = 77.307914"
   ]
  },
  {
   "cell_type": "code",
   "execution_count": null,
   "id": "4b5e97c2",
   "metadata": {},
   "outputs": [],
   "source": [
    "from geopy.distance import geodesic\n",
    "\n",
    "def get_radial_distance(user1_cordinates: tuple, user2_coordinates:tuple) -> str:\n",
    "    '''Calculate the distance between two coordinates'''\n",
    "    distance = geodesic(user1_cordinates, user2_coordinates).km\n",
    "    return distance\n",
    "\n",
    "def closest_places_ids(data, user_lat, user_long):\n",
    "    distances_nearby = {}\n",
    "    for row in data.itertuples():\n",
    "        distance = get_radial_distance(\n",
    "                                         (user_lat, user_long), \n",
    "                                        (getattr(row,'latitude'), getattr(row, 'longitude')\n",
    "                                        )\n",
    "                                       )\n",
    "        distances_nearby[getattr(row, 'id')] = int(distance)\n",
    "    return dict(sorted(distances_nearby.items(), key=lambda x:x[1]))"
   ]
  },
  {
   "cell_type": "code",
   "execution_count": null,
   "id": "9a79cc2c",
   "metadata": {},
   "outputs": [],
   "source": [
    "closest_places_ids(df, user_lat, user_long)"
   ]
  },
  {
   "cell_type": "code",
   "execution_count": null,
   "id": "08cf8013",
   "metadata": {},
   "outputs": [],
   "source": []
  },
  {
   "cell_type": "code",
   "execution_count": null,
   "id": "eed9f13c",
   "metadata": {},
   "outputs": [],
   "source": []
  },
  {
   "cell_type": "code",
   "execution_count": null,
   "id": "38a1956e",
   "metadata": {},
   "outputs": [],
   "source": [
    "129%10"
   ]
  },
  {
   "cell_type": "code",
   "execution_count": null,
   "id": "d7782c3e",
   "metadata": {},
   "outputs": [],
   "source": [
    "129//10"
   ]
  },
  {
   "cell_type": "code",
   "execution_count": null,
   "id": "d74f3dce",
   "metadata": {},
   "outputs": [],
   "source": [
    "def isHappy(n: int, squared=[]):\n",
    "    if squared and squared[-1]==1:\n",
    "        return True\n",
    "\n",
    "    n = str(n)\n",
    "    square = 0\n",
    "    for ele in n:\n",
    "        square += int(ele) * int(ele)\n",
    "\n",
    "    if square not in squared:\n",
    "        squared.append(square)\n",
    "        return isHappy(int(square), squared[:])\n",
    "\n",
    "    else:\n",
    "        return False"
   ]
  },
  {
   "cell_type": "code",
   "execution_count": null,
   "id": "9e3df82d",
   "metadata": {},
   "outputs": [],
   "source": [
    "isHappy(2, [])"
   ]
  },
  {
   "cell_type": "code",
   "execution_count": null,
   "id": "6138092d",
   "metadata": {},
   "outputs": [],
   "source": [
    "x = input('Enter x')\n",
    "y = input('Enter y')\n",
    "print(x, y)\n"
   ]
  },
  {
   "cell_type": "code",
   "execution_count": null,
   "id": "12c98798",
   "metadata": {},
   "outputs": [],
   "source": [
    "rows =3\n",
    "cols  =3"
   ]
  },
  {
   "cell_type": "code",
   "execution_count": null,
   "id": "220a9408",
   "metadata": {},
   "outputs": [],
   "source": [
    "import numpy as np"
   ]
  },
  {
   "cell_type": "code",
   "execution_count": null,
   "id": "e696e31d",
   "metadata": {},
   "outputs": [],
   "source": [
    "db_matrix = np.array([-1]*(rows * cols)).reshape(rows, cols)"
   ]
  },
  {
   "cell_type": "code",
   "execution_count": null,
   "id": "27cdcc18",
   "metadata": {},
   "outputs": [],
   "source": [
    "db_matrix"
   ]
  },
  {
   "cell_type": "code",
   "execution_count": null,
   "id": "c49a8e22",
   "metadata": {},
   "outputs": [],
   "source": [
    "db_matrix[0,1] = 2\n",
    "db_matrix[1,1] = 5"
   ]
  },
  {
   "cell_type": "code",
   "execution_count": null,
   "id": "683794c2",
   "metadata": {},
   "outputs": [],
   "source": [
    "db_matrix"
   ]
  },
  {
   "cell_type": "code",
   "execution_count": null,
   "id": "ab8a7c7d",
   "metadata": {},
   "outputs": [],
   "source": [
    "class ABC:\n",
    "    def __init__(self):\n",
    "        self.x = 'Khem'\n",
    "        \n",
    "    def a(self):\n",
    "        print(self.x)"
   ]
  },
  {
   "cell_type": "code",
   "execution_count": null,
   "id": "6f27d159",
   "metadata": {},
   "outputs": [],
   "source": [
    "obj = ABC()"
   ]
  },
  {
   "cell_type": "code",
   "execution_count": null,
   "id": "20262fd5",
   "metadata": {},
   "outputs": [],
   "source": [
    "obj.x"
   ]
  },
  {
   "cell_type": "code",
   "execution_count": null,
   "id": "9debe1ff",
   "metadata": {},
   "outputs": [],
   "source": [
    "import random \n",
    "def findKthLargest(nums, k):\n",
    "        if not nums: \n",
    "            return\n",
    "        pivot = random.choice(nums)\n",
    "        \n",
    "        left =  [x for x in nums if x > pivot]\n",
    "        mid  =  [x for x in nums if x == pivot]\n",
    "        right = [x for x in nums if x < pivot]\n",
    "        \n",
    "        L, M = len(left), len(mid)\n",
    "        \n",
    "        if k <= L:\n",
    "            return findKthLargest(left, k)\n",
    "        elif k > L + M:\n",
    "            return findKthLargest(right, k - L - M)\n",
    "        else:\n",
    "            return mid[0]"
   ]
  },
  {
   "cell_type": "code",
   "execution_count": null,
   "id": "6411db68",
   "metadata": {},
   "outputs": [],
   "source": [
    "findKthLargest([3,2,1,5,6,4],2)"
   ]
  },
  {
   "cell_type": "code",
   "execution_count": null,
   "id": "149fff06",
   "metadata": {},
   "outputs": [],
   "source": [
    "def strStr(haystack, needle):\n",
    "        if len(haystack) < len(needle):\n",
    "            return -1\n",
    "        size_of_window = len(needle)\n",
    "        i = 0\n",
    "        j = size_of_window-1\n",
    "        while j <= len(haystack)-1:\n",
    "            \n",
    "            if haystack[i : j+1] == needle:\n",
    "                return i\n",
    "\n",
    "            else:\n",
    "                i += 1\n",
    "                j += i + (size_of_window-1)\n",
    "        return -1"
   ]
  },
  {
   "cell_type": "code",
   "execution_count": null,
   "id": "844ea893",
   "metadata": {},
   "outputs": [],
   "source": [
    "s = \"a good   example\""
   ]
  },
  {
   "cell_type": "code",
   "execution_count": null,
   "id": "1a39057d",
   "metadata": {},
   "outputs": [],
   "source": [
    "s.split(' ')"
   ]
  },
  {
   "cell_type": "code",
   "execution_count": null,
   "id": "fa751841",
   "metadata": {},
   "outputs": [],
   "source": [
    "arr = []\n",
    "for i in s.split(' '):\n",
    "    if i not in ['']:\n",
    "        arr.append(i)\n",
    "        \n",
    "arr = arr[::-1]"
   ]
  },
  {
   "cell_type": "code",
   "execution_count": null,
   "id": "a20cefaa",
   "metadata": {},
   "outputs": [],
   "source": [
    "arr"
   ]
  },
  {
   "cell_type": "code",
   "execution_count": null,
   "id": "4c7aa911",
   "metadata": {},
   "outputs": [],
   "source": [
    "for x in zip(*[\"flower\",\"flow\",\"flight\"]):\n",
    "    print(x)"
   ]
  },
  {
   "cell_type": "code",
   "execution_count": null,
   "id": "a9b776da",
   "metadata": {},
   "outputs": [],
   "source": [
    "def longestCommonPrefix(v):\n",
    "        ans=\"\"\n",
    "        v=sorted(v)\n",
    "        first=v[0]\n",
    "        last=v[-1]\n",
    "        for i in range(min(len(first),len(last))):\n",
    "            if(first[i]!=last[i]):\n",
    "                return ans\n",
    "            ans+=first[i]\n",
    "        return ans "
   ]
  },
  {
   "cell_type": "code",
   "execution_count": null,
   "id": "4dd9f8f9",
   "metadata": {},
   "outputs": [],
   "source": [
    "longestCommonPrefix([\"flower\",\"flow\",\"flight\"])"
   ]
  },
  {
   "cell_type": "code",
   "execution_count": null,
   "id": "d1aa699c",
   "metadata": {},
   "outputs": [],
   "source": [
    "def myAtoi(self, s: str) -> int:\n",
    "        hashmap = {}\n",
    "        rev  = abs(int(x))//int(x)\n",
    "        for i in range(0,10):\n",
    "            hashmap[str(i)] = i\n",
    "        r1 = 0\n",
    "        for i in range(0, len(strabs(s)))):\n",
    "            r1  = 10 * r1 + hashmap[str(abs(x))[i]]\n",
    "        r1  = r1 * rev\n",
    "        if r1 in range(-2**31, 2**31):\n",
    "            return r1\n",
    "        else:\n",
    "            return 0\n",
    "    else:\n",
    "        return 0"
   ]
  },
  {
   "cell_type": "code",
   "execution_count": null,
   "id": "dcb9a671",
   "metadata": {},
   "outputs": [],
   "source": [
    "import math\n",
    "class Shape:\n",
    "    def __init__(self, name):\n",
    "        self.name = name\n",
    "        \n",
    "    def shapetype(self):\n",
    "        print(f\"I am {self.name}\")\n",
    "        \n",
    "        \n",
    "    def getarea(self):\n",
    "        return 0\n",
    "        \n",
    "        \n",
    "class Triangle(Shape):\n",
    "    def __init__(self, name, base, height):\n",
    "        super().__init__(name)\n",
    "        self.base = base\n",
    "        self.height = height\n",
    "        \n",
    "    \n",
    "    def getarea(self):\n",
    "        self.shapetype()\n",
    "        print(f\" my area is {1/2*self.base*self.height}\")\n",
    "        \n",
    "\n",
    "class Circle(Shape):\n",
    "    def __init__(self, name, radius):\n",
    "        super().__init__(name)\n",
    "        self.radius = radius\n",
    "        \n",
    "    \n",
    "    def getarea(self):\n",
    "        self.shapetype()\n",
    "        print(f\" my area is {math.pi*self.radius**2}\")\n",
    "        "
   ]
  },
  {
   "cell_type": "code",
   "execution_count": null,
   "id": "1f822208",
   "metadata": {},
   "outputs": [],
   "source": [
    "obj = Triangle('Triangle', 2, 3)\n",
    "obj1 = Circle('Circle', 6 )\n",
    "obj.getarea()\n",
    "obj1.getarea()"
   ]
  },
  {
   "cell_type": "code",
   "execution_count": null,
   "id": "11ed4279",
   "metadata": {},
   "outputs": [],
   "source": [
    "array = [0,2,1,2,0]"
   ]
  },
  {
   "cell_type": "code",
   "execution_count": null,
   "id": "d0e75db4",
   "metadata": {},
   "outputs": [],
   "source": [
    "p1 = 0 \n",
    "p2 = len(array)-1"
   ]
  },
  {
   "cell_type": "code",
   "execution_count": null,
   "id": "131b7c05",
   "metadata": {},
   "outputs": [],
   "source": [
    "def lengthOfLongestSubstring(s):\n",
    "        st = 0\n",
    "        max_substr = 0\n",
    "        hashmap = {}\n",
    "        for i, v in enumerate(s):\n",
    "            if v in hashmap and st <= hashmap[v]:\n",
    "                st = hashmap[v] + 1\n",
    "            else:\n",
    "                max_substr = max(max_substr, i-st+1)\n",
    "            hashmap[v] = i\n",
    "        return max_substr"
   ]
  },
  {
   "cell_type": "code",
   "execution_count": null,
   "id": "751dde54",
   "metadata": {},
   "outputs": [],
   "source": [
    "lengthOfLongestSubstring('abcabcbb')"
   ]
  },
  {
   "cell_type": "code",
   "execution_count": null,
   "id": "b79f714a",
   "metadata": {},
   "outputs": [],
   "source": [
    "s = '123456789'\n",
    "list(map(''.join, zip(*[iter(s)]*2)))"
   ]
  },
  {
   "cell_type": "code",
   "execution_count": null,
   "id": "563d9923",
   "metadata": {},
   "outputs": [],
   "source": [
    "list(zip(*[iter(s)] * 2))"
   ]
  },
  {
   "cell_type": "code",
   "execution_count": null,
   "id": "2f142385",
   "metadata": {},
   "outputs": [],
   "source": [
    "s = ['tom','tim','sam','pet']"
   ]
  },
  {
   "cell_type": "code",
   "execution_count": null,
   "id": "6b14b1e4",
   "metadata": {},
   "outputs": [],
   "source": [
    "for i in range(1, len(s)):\n",
    "    j = i\n",
    "    while s[j-1][1:2] > s[j][1:2] and j > 0:\n",
    "        s[j-1], s[j] = s[j], s[j-1]\n",
    "        j-=1"
   ]
  },
  {
   "cell_type": "code",
   "execution_count": null,
   "id": "93aec543",
   "metadata": {},
   "outputs": [],
   "source": [
    "s"
   ]
  },
  {
   "cell_type": "code",
   "execution_count": null,
   "id": "a372822d",
   "metadata": {},
   "outputs": [],
   "source": [
    "def lowestTriangle(trianglebase, area):\n",
    "    height = int(area * 2 )// trianglebase\n",
    "    return height"
   ]
  },
  {
   "cell_type": "code",
   "execution_count": null,
   "id": "7c24b5b4",
   "metadata": {},
   "outputs": [],
   "source": [
    "lowestTriangle(17,100)"
   ]
  },
  {
   "cell_type": "code",
   "execution_count": null,
   "id": "68f044bd",
   "metadata": {},
   "outputs": [],
   "source": [
    "truncate(100 *2/17, 1)"
   ]
  },
  {
   "cell_type": "code",
   "execution_count": null,
   "id": "fe12df10",
   "metadata": {},
   "outputs": [],
   "source": [
    "import pandas as pd"
   ]
  },
  {
   "cell_type": "code",
   "execution_count": null,
   "id": "7d7a536a",
   "metadata": {},
   "outputs": [],
   "source": [
    "df = pd.DataFrame([[1,2,3,4,5],[4,5,6,7,8], [9,10,11,12]])"
   ]
  },
  {
   "cell_type": "code",
   "execution_count": null,
   "id": "944a6db8",
   "metadata": {},
   "outputs": [],
   "source": [
    "ds = [\n",
    "['Red', 'Green', 'White'],\n",
    "['Red', 'Black'],\n",
    "['Yellow']]"
   ]
  },
  {
   "cell_type": "code",
   "execution_count": null,
   "id": "c3839565",
   "metadata": {},
   "outputs": [],
   "source": [
    "df = pd.DataFrame(ds)"
   ]
  },
  {
   "cell_type": "code",
   "execution_count": null,
   "id": "ad853afc",
   "metadata": {},
   "outputs": [],
   "source": [
    "df"
   ]
  },
  {
   "cell_type": "code",
   "execution_count": null,
   "id": "e53cfb1c",
   "metadata": {
    "scrolled": true
   },
   "outputs": [],
   "source": [
    "df.stack()"
   ]
  },
  {
   "cell_type": "code",
   "execution_count": null,
   "id": "5a5358aa",
   "metadata": {},
   "outputs": [],
   "source": [
    "df1 = pd.DataFrame({'a':[1,2,3,4,5,6],'b':[1,2,3,4,5,8]})"
   ]
  },
  {
   "cell_type": "code",
   "execution_count": null,
   "id": "73d49dda",
   "metadata": {},
   "outputs": [],
   "source": [
    "df1.loc[~df1['a'].isin(df1['b'])]"
   ]
  },
  {
   "cell_type": "code",
   "execution_count": null,
   "id": "ed35a80b",
   "metadata": {},
   "outputs": [],
   "source": [
    "import numpy as np"
   ]
  },
  {
   "cell_type": "code",
   "execution_count": null,
   "id": "9a1c511b",
   "metadata": {},
   "outputs": [],
   "source": [
    "df2 = pd.DataFrame(np.random.randn(6, 4), \n",
    "             index=pd.date_range('20230101',\n",
    "                                 periods=6), \n",
    "             columns = list('ABCD'))"
   ]
  },
  {
   "cell_type": "code",
   "execution_count": null,
   "id": "6e10e56c",
   "metadata": {},
   "outputs": [],
   "source": [
    "df2.sort_index(axis=1, ascending=False)"
   ]
  },
  {
   "cell_type": "code",
   "execution_count": null,
   "id": "a263cd18",
   "metadata": {},
   "outputs": [],
   "source": [
    "df2.sort_values(by=[\"B\"])"
   ]
  },
  {
   "cell_type": "code",
   "execution_count": null,
   "id": "9ac09b3d",
   "metadata": {},
   "outputs": [],
   "source": [
    "df2.loc['20230101',\"A\"]"
   ]
  },
  {
   "cell_type": "code",
   "execution_count": null,
   "id": "b4a6b0c1",
   "metadata": {},
   "outputs": [],
   "source": [
    "df2.index"
   ]
  },
  {
   "cell_type": "code",
   "execution_count": null,
   "id": "f223c6bc",
   "metadata": {},
   "outputs": [],
   "source": [
    "df2.at[pd.to_datetime(\"2023-01-01\"), \"A\"]"
   ]
  },
  {
   "cell_type": "code",
   "execution_count": null,
   "id": "f5907942",
   "metadata": {},
   "outputs": [],
   "source": [
    "df2.iloc[1,1]"
   ]
  },
  {
   "cell_type": "code",
   "execution_count": null,
   "id": "ccbcc850",
   "metadata": {},
   "outputs": [],
   "source": [
    "df2.iat[1,2]"
   ]
  },
  {
   "cell_type": "code",
   "execution_count": null,
   "id": "d0989778",
   "metadata": {},
   "outputs": [],
   "source": [
    "df2.at[pd.to_datetime(\"2023-01-01\"), \"A\"] = 0"
   ]
  },
  {
   "cell_type": "code",
   "execution_count": null,
   "id": "279945e4",
   "metadata": {},
   "outputs": [],
   "source": [
    "df2"
   ]
  },
  {
   "cell_type": "code",
   "execution_count": null,
   "id": "ca8e2e50",
   "metadata": {},
   "outputs": [],
   "source": [
    "df2.apply(lambda x: x*3, axis=1)"
   ]
  },
  {
   "cell_type": "code",
   "execution_count": null,
   "id": "c903ae0b",
   "metadata": {},
   "outputs": [],
   "source": [
    "df2.value_counts(subset='A')"
   ]
  },
  {
   "cell_type": "code",
   "execution_count": null,
   "id": "7e54352b",
   "metadata": {},
   "outputs": [],
   "source": [
    "s = pd.Series([\"A\", \"B\", \"C\", \"Aaba\", \"Baca\", np.nan, \"CABA\", \"dog\", \"cat\"])"
   ]
  },
  {
   "cell_type": "code",
   "execution_count": null,
   "id": "df0509c1",
   "metadata": {},
   "outputs": [],
   "source": [
    "df3 = pd.DataFrame(s)"
   ]
  },
  {
   "cell_type": "markdown",
   "id": "d02a4dc3",
   "metadata": {},
   "source": [
    "### "
   ]
  },
  {
   "cell_type": "markdown",
   "id": "3adc7f60",
   "metadata": {},
   "source": [
    "### "
   ]
  },
  {
   "cell_type": "code",
   "execution_count": null,
   "id": "3445ae9f",
   "metadata": {},
   "outputs": [],
   "source": [
    "df3"
   ]
  },
  {
   "cell_type": "code",
   "execution_count": null,
   "id": "62588781",
   "metadata": {},
   "outputs": [],
   "source": [
    "df3[0].tolist()"
   ]
  },
  {
   "cell_type": "code",
   "execution_count": null,
   "id": "86ac6949",
   "metadata": {},
   "outputs": [],
   "source": [
    "df = pd.DataFrame(\n",
    "    {\n",
    "        \"A\": [\"foo\", \"bar\", \"foo\", \"bar\", \"foo\", \"bar\", \"foo\", \"foo\"],\n",
    "        \"B\": [\"one\", \"one\", \"two\", \"three\", \"two\", \"two\", \"one\", \"three\"],\n",
    "        \"C\": np.random.randn(8),\n",
    "        \"D\": np.random.randn(8),\n",
    "    }\n",
    ")"
   ]
  },
  {
   "cell_type": "code",
   "execution_count": null,
   "id": "b070afd8",
   "metadata": {},
   "outputs": [],
   "source": [
    "df"
   ]
  },
  {
   "cell_type": "code",
   "execution_count": null,
   "id": "47a41dac",
   "metadata": {},
   "outputs": [],
   "source": [
    "df.groupby(by=['A','B'])"
   ]
  },
  {
   "cell_type": "code",
   "execution_count": null,
   "id": "3b1a16e6",
   "metadata": {},
   "outputs": [],
   "source": [
    "import itertools\n",
    "friends = '123'"
   ]
  },
  {
   "cell_type": "code",
   "execution_count": null,
   "id": "0f53a3cf",
   "metadata": {},
   "outputs": [],
   "source": [
    "f = []\n",
    "for i in itertools.permutations(list(friends), r= len(friends)):\n",
    "    f.append(''.join(i))"
   ]
  },
  {
   "cell_type": "code",
   "execution_count": null,
   "id": "aa711190",
   "metadata": {},
   "outputs": [],
   "source": [
    "f"
   ]
  },
  {
   "cell_type": "code",
   "execution_count": null,
   "id": "e1787b8b",
   "metadata": {},
   "outputs": [],
   "source": [
    "def climbStairs(n):\n",
    "        if n < 3:\n",
    "            return n \n",
    "\n",
    "        a=1\n",
    "        b=2\n",
    "        for i in range(3, n+1):\n",
    "            a, b = b, a+b\n",
    "\n",
    "        return b"
   ]
  },
  {
   "cell_type": "code",
   "execution_count": null,
   "id": "f34d2024",
   "metadata": {},
   "outputs": [],
   "source": [
    "climbStairs(6)"
   ]
  },
  {
   "cell_type": "code",
   "execution_count": null,
   "id": "29dbe087",
   "metadata": {},
   "outputs": [],
   "source": [
    "def Fibonacci(n):\n",
    "        if n < 2:\n",
    "            return n \n",
    "\n",
    "        a=0\n",
    "        b=1\n",
    "        for i in range(1, n):\n",
    "            a, b = b, a+b\n",
    "\n",
    "        return b"
   ]
  },
  {
   "cell_type": "code",
   "execution_count": null,
   "id": "2e019f44",
   "metadata": {},
   "outputs": [],
   "source": [
    "test_str = 'babad'"
   ]
  },
  {
   "cell_type": "code",
   "execution_count": null,
   "id": "85faa695",
   "metadata": {},
   "outputs": [],
   "source": [
    "res = [test_str[i: j] for i in range(len(test_str))\n",
    "          for j in range(i + 1, len(test_str)+1)]"
   ]
  },
  {
   "cell_type": "code",
   "execution_count": null,
   "id": "07826eb1",
   "metadata": {},
   "outputs": [],
   "source": [
    "res"
   ]
  },
  {
   "cell_type": "code",
   "execution_count": null,
   "id": "56e0c8d3",
   "metadata": {
    "scrolled": true
   },
   "outputs": [],
   "source": [
    "g = []\n",
    "for i in range(len(test_str)):\n",
    "    for j in range(i+1, len(test_str)+1):\n",
    "        g.append(test_str[i:j])"
   ]
  },
  {
   "cell_type": "code",
   "execution_count": null,
   "id": "fad04ef2",
   "metadata": {},
   "outputs": [],
   "source": [
    "g"
   ]
  },
  {
   "cell_type": "code",
   "execution_count": null,
   "id": "cc441101",
   "metadata": {},
   "outputs": [],
   "source": [
    "x = 121\n",
    "divisor = 1\n",
    "while (x / divisor >= 10): \n",
    "    divisor *= 10"
   ]
  },
  {
   "cell_type": "code",
   "execution_count": null,
   "id": "98f70090",
   "metadata": {},
   "outputs": [],
   "source": [
    "divisor"
   ]
  },
  {
   "cell_type": "code",
   "execution_count": null,
   "id": "241a4969",
   "metadata": {},
   "outputs": [],
   "source": [
    "leading = x // divisor"
   ]
  },
  {
   "cell_type": "code",
   "execution_count": null,
   "id": "b282514d",
   "metadata": {},
   "outputs": [],
   "source": [
    "leading"
   ]
  },
  {
   "cell_type": "code",
   "execution_count": null,
   "id": "3077829e",
   "metadata": {},
   "outputs": [],
   "source": [
    "trailing = x % 10"
   ]
  },
  {
   "cell_type": "code",
   "execution_count": null,
   "id": "27ac2902",
   "metadata": {},
   "outputs": [],
   "source": [
    "trailing"
   ]
  },
  {
   "cell_type": "code",
   "execution_count": null,
   "id": "721efb41",
   "metadata": {},
   "outputs": [],
   "source": [
    "if (leading != trailing):  \n",
    "    print(False)"
   ]
  },
  {
   "cell_type": "code",
   "execution_count": null,
   "id": "258f0c7d",
   "metadata": {},
   "outputs": [],
   "source": [
    "x = (x % divisor)//10"
   ]
  },
  {
   "cell_type": "code",
   "execution_count": null,
   "id": "d89118a7",
   "metadata": {},
   "outputs": [],
   "source": [
    "divisor = divisor/100"
   ]
  },
  {
   "cell_type": "code",
   "execution_count": null,
   "id": "ab4cda88",
   "metadata": {},
   "outputs": [],
   "source": [
    "s = set()"
   ]
  },
  {
   "cell_type": "code",
   "execution_count": null,
   "id": "498e6acc",
   "metadata": {},
   "outputs": [],
   "source": [
    "s.add([1,1,2])"
   ]
  },
  {
   "cell_type": "code",
   "execution_count": null,
   "id": "0b5d1210",
   "metadata": {},
   "outputs": [],
   "source": [
    "s = [[1,1,2],[2,1,1]]"
   ]
  },
  {
   "cell_type": "code",
   "execution_count": null,
   "id": "fe2c8c49",
   "metadata": {},
   "outputs": [],
   "source": [
    "[1,2,1] in s"
   ]
  },
  {
   "cell_type": "code",
   "execution_count": null,
   "id": "c6d3f672",
   "metadata": {},
   "outputs": [],
   "source": [
    "def findFirst(nums, target):\n",
    "    out = -1\n",
    "    start = 0\n",
    "    end = len(nums)-1\n",
    "\n",
    "    while start <= end:\n",
    "        mid = (start+end)//2\n",
    "        if nums[mid] >= target:\n",
    "            end = mid-1\n",
    "        else:\n",
    "            start = mid+1\n",
    "        if nums[mid] == target:\n",
    "            out = mid\n",
    "    return out\n",
    "\n",
    "\n",
    "def findLast(nums, target):\n",
    "    out = -1\n",
    "    start = 0\n",
    "    end = len(nums)-1\n",
    "\n",
    "    while start<= end:\n",
    "        mid = (start+end)//2\n",
    "        if nums[mid] <= target:\n",
    "            start = mid + 1\n",
    "        else:\n",
    "            end = mid -1\n",
    "        if nums[mid] == target:\n",
    "            out = mid\n",
    "    return out"
   ]
  },
  {
   "cell_type": "code",
   "execution_count": null,
   "id": "32431823",
   "metadata": {},
   "outputs": [],
   "source": [
    "findFirst([5,7,7,8,8,10], 8)"
   ]
  },
  {
   "cell_type": "code",
   "execution_count": null,
   "id": "5cc5baba",
   "metadata": {},
   "outputs": [],
   "source": [
    "findLast([5,7,7,8,8,10], 8)"
   ]
  },
  {
   "cell_type": "code",
   "execution_count": null,
   "id": "85e07169",
   "metadata": {},
   "outputs": [],
   "source": [
    "li1 = [2,4,9]\n",
    "li2 = [5,6,4,9]"
   ]
  },
  {
   "cell_type": "code",
   "execution_count": null,
   "id": "3026f994",
   "metadata": {},
   "outputs": [],
   "source": [
    "i=0\n",
    "\n",
    "while i <=len(li1)-1:\n",
    "    total = "
   ]
  },
  {
   "cell_type": "code",
   "execution_count": null,
   "id": "c34ab72e",
   "metadata": {},
   "outputs": [],
   "source": [
    "arr1 = [7,0,0,0,7,5,7]"
   ]
  },
  {
   "cell_type": "code",
   "execution_count": null,
   "id": "03fc2930",
   "metadata": {},
   "outputs": [],
   "source": [
    "from collections import Counter\n",
    "expected = [0,0,7]\n",
    "output = []\n",
    "arr1.sort()\n",
    "for i in arr1:\n",
    "    if i==0:\n",
    "        if Counter(output)[0] != 2:\n",
    "            output.append(i)\n",
    "        \n",
    "    elif i==7:\n",
    "        if Counter(output)[7] == 0:\n",
    "            output.append(i)\n",
    "print(output) \n",
    "print(output==expected)"
   ]
  },
  {
   "cell_type": "code",
   "execution_count": null,
   "id": "b7a89e68",
   "metadata": {},
   "outputs": [],
   "source": [
    "Counter(output)"
   ]
  },
  {
   "cell_type": "code",
   "execution_count": null,
   "id": "9959a437",
   "metadata": {},
   "outputs": [],
   "source": [
    "def get_permutations(arr, path, output):\n",
    "        if not arr:\n",
    "            output.append(path[:])\n",
    "\n",
    "        for i in range(len(arr)):\n",
    "            get_permutations(arr[:i] + arr[i+1:], path+[arr[i]], output)\n",
    "            \n",
    "        return output"
   ]
  },
  {
   "cell_type": "code",
   "execution_count": null,
   "id": "b9de26a3",
   "metadata": {},
   "outputs": [],
   "source": [
    "get_permutations([1,2,3,4,5,6,7,8,9,0],[], [])"
   ]
  },
  {
   "cell_type": "code",
   "execution_count": null,
   "id": "2e0877b3",
   "metadata": {},
   "outputs": [],
   "source": [
    "arr = [6,5,7]\n",
    "k=2\n",
    "k = len(arr)-k"
   ]
  },
  {
   "cell_type": "code",
   "execution_count": 77,
   "id": "6fd79ef5",
   "metadata": {},
   "outputs": [],
   "source": [
    "def findKthLargest(nums, k):\n",
    "\n",
    "    k = len(nums) -k\n",
    "    \n",
    "    def quickSelect(l, r):\n",
    "        pivot, p  = nums[r], l\n",
    "        for i in range(l,r):\n",
    "            if nums[i] <= pivot:\n",
    "                nums[i], nums[p]= nums[p], nums[i]\n",
    "                p+=1\n",
    "        nums[p], nums[r] = nums[r], nums[p]\n",
    "        if \n",
    "        > k:\n",
    "            return quickSelect(l, p-1)\n",
    "        elif p < k:\n",
    "            return quickSelect(p+1, r)\n",
    "\n",
    "        else:\n",
    "            return nums[p]\n",
    "\n",
    "    return quickSelect(0, len(nums)-1)\n",
    "        "
   ]
  },
  {
   "cell_type": "code",
   "execution_count": 78,
   "id": "8c87be46",
   "metadata": {},
   "outputs": [
    {
     "data": {
      "text/plain": [
       "6"
      ]
     },
     "execution_count": 78,
     "metadata": {},
     "output_type": "execute_result"
    }
   ],
   "source": [
    "nums = \n",
    "findKthLargest(nums, 2)"
   ]
  },
  {
   "cell_type": "code",
   "execution_count": 48,
   "id": "25399ca2",
   "metadata": {},
   "outputs": [
    {
     "data": {
      "text/plain": [
       "[4, 1, 3, 5, 6, 7]"
      ]
     },
     "execution_count": 48,
     "metadata": {},
     "output_type": "execute_result"
    }
   ],
   "source": [
    "nums"
   ]
  },
  {
   "cell_type": "code",
   "execution_count": 1,
   "id": "1104b0b8",
   "metadata": {},
   "outputs": [],
   "source": [
    "def quickSort(nums, l, r):\n",
    "    if l < r:\n",
    "        pivot, p  = nums[r], l\n",
    "        for i in range(l,r):\n",
    "            if nums[i] <=pivot:\n",
    "                nums[i], nums[p]= nums[p], nums[i]\n",
    "                p+=1\n",
    "\n",
    "        nums[p], nums[r] = nums[r], nums[p]\n",
    "        quickSort(nums, l, p-1)\n",
    "        quickSort(nums, p+1, r)"
   ]
  },
  {
   "cell_type": "code",
   "execution_count": 2,
   "id": "5bf0dc62",
   "metadata": {},
   "outputs": [],
   "source": [
    "nums = [4,1,3,6,5,7]\n",
    "quickSort(nums, 0, len(nums)-1)"
   ]
  },
  {
   "cell_type": "code",
   "execution_count": 3,
   "id": "63c7bcaa",
   "metadata": {},
   "outputs": [
    {
     "data": {
      "text/plain": [
       "[1, 3, 4, 5, 6, 7]"
      ]
     },
     "execution_count": 3,
     "metadata": {},
     "output_type": "execute_result"
    }
   ],
   "source": [
    "nums"
   ]
  },
  {
   "cell_type": "code",
   "execution_count": null,
   "id": "1015ffa5",
   "metadata": {},
   "outputs": [],
   "source": []
  }
 ],
 "metadata": {
  "kernelspec": {
   "display_name": "Python 3 (ipykernel)",
   "language": "python",
   "name": "python3"
  },
  "language_info": {
   "codemirror_mode": {
    "name": "ipython",
    "version": 3
   },
   "file_extension": ".py",
   "mimetype": "text/x-python",
   "name": "python",
   "nbconvert_exporter": "python",
   "pygments_lexer": "ipython3",
   "version": "3.9.7"
  }
 },
 "nbformat": 4,
 "nbformat_minor": 5
}
